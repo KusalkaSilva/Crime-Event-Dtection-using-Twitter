{
 "cells": [
  {
   "cell_type": "code",
   "execution_count": 1,
   "id": "285b450a",
   "metadata": {},
   "outputs": [],
   "source": [
    "#import necessary libraries\n",
    "import pandas as pd\n",
    "import numpy as np\n",
    "import seaborn as sns\n",
    "from sklearn import metrics\n",
    "import matplotlib.pyplot as plt\n",
    "import time\n",
    "\n",
    "from sklearn.feature_extraction.text import TfidfVectorizer\n",
    "from sklearn.model_selection import train_test_split, validation_curve\n",
    "from sklearn import model_selection, naive_bayes, svm\n",
    "from sklearn.naive_bayes import ComplementNB\n",
    "from sklearn.neighbors import KNeighborsClassifier\n",
    "from sklearn.metrics import classification_report\n",
    "from sklearn.metrics import confusion_matrix\n",
    "from sklearn.metrics import accuracy_score, precision_score, recall_score, f1_score\n",
    "from sklearn.model_selection import GridSearchCV, StratifiedKFold\n",
    "from sklearn.model_selection import cross_val_score\n",
    "from pylab import savefig\n",
    "\n",
    "# To ignore warnings\n",
    "import warnings\n",
    "\n",
    "warnings.filterwarnings('ignore')"
   ]
  },
  {
   "cell_type": "code",
   "execution_count": 2,
   "id": "7f42683f",
   "metadata": {},
   "outputs": [],
   "source": [
    "np.random.seed(500)"
   ]
  },
  {
   "cell_type": "code",
   "execution_count": 3,
   "id": "32f3aa3a",
   "metadata": {},
   "outputs": [
    {
     "data": {
      "text/html": [
       "<div>\n",
       "<style scoped>\n",
       "    .dataframe tbody tr th:only-of-type {\n",
       "        vertical-align: middle;\n",
       "    }\n",
       "\n",
       "    .dataframe tbody tr th {\n",
       "        vertical-align: top;\n",
       "    }\n",
       "\n",
       "    .dataframe thead th {\n",
       "        text-align: right;\n",
       "    }\n",
       "</style>\n",
       "<table border=\"1\" class=\"dataframe\">\n",
       "  <thead>\n",
       "    <tr style=\"text-align: right;\">\n",
       "      <th></th>\n",
       "      <th>tweet</th>\n",
       "      <th>crime</th>\n",
       "      <th>Category</th>\n",
       "      <th>lemmatized_tweet</th>\n",
       "      <th>stemming_tweet</th>\n",
       "    </tr>\n",
       "  </thead>\n",
       "  <tbody>\n",
       "    <tr>\n",
       "      <th>0</th>\n",
       "      <td>- she was returning to her hostel when she was...</td>\n",
       "      <td>Yes</td>\n",
       "      <td>1</td>\n",
       "      <td>['return', 'hostel', 'savagely', 'beat', 'unco...</td>\n",
       "      <td>['return', 'hostel', 'savag', 'beaten', 'uncon...</td>\n",
       "    </tr>\n",
       "    <tr>\n",
       "      <th>1</th>\n",
       "      <td>BBC News - Napier Barracks: Fire at Covid-hit ...</td>\n",
       "      <td>Yes</td>\n",
       "      <td>1</td>\n",
       "      <td>['bbc', 'news', 'napier', 'barrack', 'fire', '...</td>\n",
       "      <td>['bbc', 'news', 'napier', 'barrack', 'fire', '...</td>\n",
       "    </tr>\n",
       "  </tbody>\n",
       "</table>\n",
       "</div>"
      ],
      "text/plain": [
       "                                               tweet crime  Category  \\\n",
       "0  - she was returning to her hostel when she was...   Yes         1   \n",
       "1  BBC News - Napier Barracks: Fire at Covid-hit ...   Yes         1   \n",
       "\n",
       "                                    lemmatized_tweet  \\\n",
       "0  ['return', 'hostel', 'savagely', 'beat', 'unco...   \n",
       "1  ['bbc', 'news', 'napier', 'barrack', 'fire', '...   \n",
       "\n",
       "                                      stemming_tweet  \n",
       "0  ['return', 'hostel', 'savag', 'beaten', 'uncon...  \n",
       "1  ['bbc', 'news', 'napier', 'barrack', 'fire', '...  "
      ]
     },
     "execution_count": 3,
     "metadata": {},
     "output_type": "execute_result"
    }
   ],
   "source": [
    "#read csv\n",
    "tweet_df = pd.read_csv('TrainingHashtag.csv')\n",
    "tweet_df[['tweet', 'crime', 'Category', 'lemmatized_tweet', 'stemming_tweet']].head(2)"
   ]
  },
  {
   "cell_type": "code",
   "execution_count": 4,
   "id": "0a91dc6b",
   "metadata": {},
   "outputs": [],
   "source": [
    "#train_test split - lemmatized\n",
    "X_train_lem, X_test_lem, y_train_lem, y_test_lem = train_test_split(tweet_df['lemmatized_tweet'],\n",
    "                                                                    tweet_df['Category'], \n",
    "                                                                    stratify=tweet_df['Category'], \n",
    "                                                                    test_size=0.2,\n",
    "                                                                   random_state = 42)\n",
    "\n",
    "#train_test split - lstemmed\n",
    "X_train_stem, X_test_stem, y_train_stem, y_test_stem = train_test_split(tweet_df['stemming_tweet'],\n",
    "                                                                        tweet_df['Category'], \n",
    "                                                                        stratify=tweet_df['Category'], \n",
    "                                                                        test_size=0.2,\n",
    "                                                                       random_state = 42)"
   ]
  },
  {
   "cell_type": "code",
   "execution_count": 5,
   "id": "6860cb1c",
   "metadata": {},
   "outputs": [
    {
     "name": "stdout",
     "output_type": "stream",
     "text": [
      "(1072,) (1072,)\n",
      "(268,) (268,)\n",
      "(1072,) (1072,)\n",
      "(268,) (268,)\n"
     ]
    }
   ],
   "source": [
    "#shape of train and test sets\n",
    "print(X_train_lem.shape, y_train_lem.shape)\n",
    "print(X_test_lem.shape, y_test_lem.shape)\n",
    "\n",
    "print(X_train_stem.shape, y_train_stem.shape)\n",
    "print(X_test_stem.shape, y_test_stem.shape)"
   ]
  },
  {
   "cell_type": "code",
   "execution_count": 6,
   "id": "725e37c7",
   "metadata": {},
   "outputs": [
    {
     "data": {
      "text/plain": [
       "761     ['nicola', 'sturgeon', 'try', 'salmond', 'jail...\n",
       "1145    ['police', 'armed', 'still', 'need', 'close', ...\n",
       "1125    ['job', 'make', 'sure', 'arrest', 'not', 'atte...\n",
       "0       ['return', 'hostel', 'savagely', 'beat', 'unco...\n",
       "770     ['use', 'site', 'automatically', 'email', 'twe...\n",
       "                              ...                        \n",
       "1144    ['jon', 'give', 'I', 'knife', 'bloody', 'fed',...\n",
       "709     ['hurt', 'police', 'officer', 'go', 'prison', ...\n",
       "501     ['cheshunt', 'man', 'use', 'steal', 'debit', '...\n",
       "915     ['man', 'release', 'serial', 'domestic', 'homi...\n",
       "1168    ['equivalent', 'war', 'crime', 'crime', 'state...\n",
       "Name: lemmatized_tweet, Length: 268, dtype: object"
      ]
     },
     "execution_count": 6,
     "metadata": {},
     "output_type": "execute_result"
    }
   ],
   "source": [
    "X_test_lem "
   ]
  },
  {
   "cell_type": "code",
   "execution_count": 7,
   "id": "b057858a",
   "metadata": {},
   "outputs": [],
   "source": [
    "#TF-IDF - Lemmatized tweets\n",
    "Tfidf_vect_lem = TfidfVectorizer()\n",
    "Tfidf_vect_lem.fit(tweet_df['lemmatized_tweet'])\n",
    "X_train_lem_Tfidf = Tfidf_vect_lem.transform(X_train_lem)\n",
    "X_test_lem_Tfidf = Tfidf_vect_lem.transform(X_test_lem)\n",
    "\n",
    "#TF-IDF - Stemming tweets\n",
    "Tfidf_vect_stem = TfidfVectorizer()\n",
    "Tfidf_vect_stem.fit(tweet_df['stemming_tweet'])\n",
    "X_train_stem_Tfidf = Tfidf_vect_stem.transform(X_train_stem)\n",
    "X_test_stem_Tfidf = Tfidf_vect_stem.transform(X_test_stem)"
   ]
  },
  {
   "cell_type": "code",
   "execution_count": 8,
   "id": "bce7bfc8",
   "metadata": {},
   "outputs": [
    {
     "name": "stdout",
     "output_type": "stream",
     "text": [
      "            TF-IDF\n",
      "detailed  0.349508\n",
      "nicola    0.349508\n",
      "sturgeon  0.330633\n",
      "salmond   0.306853\n",
      "account   0.291190\n",
      "actually  0.291190\n",
      "listen    0.274586\n",
      "film      0.266099\n",
      "happen    0.262373\n",
      "hour      0.252707\n"
     ]
    }
   ],
   "source": [
    "#top 10 tfidf scores\n",
    "dfX_train_lem_tfidf = pd.DataFrame(X_test_lem_Tfidf[0].T.todense(), index=Tfidf_vect_lem.get_feature_names(), \n",
    "                                   columns=[\"TF-IDF\"])\n",
    "dfX_train_lem_tfidf = dfX_train_lem_tfidf.sort_values('TF-IDF', ascending=False)\n",
    "print (dfX_train_lem_tfidf.head(10))"
   ]
  },
  {
   "cell_type": "code",
   "execution_count": 9,
   "id": "ea9393ca",
   "metadata": {},
   "outputs": [],
   "source": [
    "#function to perform evaluation metrics\n",
    "def evaluation_measures(y_test, pred_model, name): #(test_set, ML model, \"lem\" or \"stem\")\n",
    "    \n",
    "    #confusion matrix\n",
    "    conf_marix = confusion_matrix(y_test, pred_model)\n",
    "    \n",
    "    #calculations\n",
    "    TP = conf_marix[1][1] #True Positives\n",
    "    FP = conf_marix[0][1] #False Positives\n",
    "    FN = conf_marix[1][0] #False Negatives\n",
    "    TN = conf_marix[0][0] #True Negatives\n",
    "    Specificity = TN/(TN+FP)\n",
    "    Error_rate = (FP+FN)/(TP+TN+FP+FN)\n",
    "    FPR, TPR, _ = metrics.roc_curve(y_test, pred_model)\n",
    "    AUC = metrics.roc_auc_score(y_test,pred_model)\n",
    "    \n",
    "    #printing measures\n",
    "    print('Accuracy - ', accuracy_score(y_test, pred_model))\n",
    "    print('Precision - ', precision_score(y_test, pred_model))\n",
    "    print('Recall/Sensitivity - ', recall_score(y_test, pred_model))\n",
    "    print('F1-Score - ', f1_score(y_test, pred_model))\n",
    "    print('Specificity - ', Specificity)\n",
    "    print('Error rate - ', Error_rate)\n",
    "    print('AUC - ', AUC) \n",
    "    \n",
    "    \n",
    "    #create ROC curve\n",
    "    plt.plot(FPR, TPR, label=\"AUC = \" +str(AUC))\n",
    "    plt.ylabel('True Positive Rate')\n",
    "    plt.xlabel('False Positive Rate')\n",
    "    plt.legend(loc=4)\n",
    "    plt.savefig('ROC Curve ' + str(name) + '.png') #saving plot\n",
    "    plt.show()\n",
    "    \n",
    "    \n",
    "    #Confusion Matrix\n",
    "    names = ['True Neg', 'False Pos', 'False Neg', 'True Pos'] #name of each box in confusion matrix grid\n",
    "    counts = [\"{0:0.0f}\".format(value) for value in conf_marix.flatten()] #TN, FP, FN, TP values\n",
    "    percentage = [\"{0:.2%}\".format(value) for value in conf_marix.flatten()/np.sum(conf_marix)] #calculating %\n",
    "    labels = [f\"{v1}\\n{v2}\\n{v3}\" for v1, v2, v3 in zip(names, counts, percentage)]\n",
    "    labels = np.asarray(labels).reshape(2,2)\n",
    "    c_matrix = sns.heatmap(conf_marix, annot=labels, fmt='', cmap='Blues')\n",
    "    figure = c_matrix.get_figure()\n",
    "    figure.savefig('CMatrix ' + str(name) + '.png') #saving confusion matrix\n",
    "    "
   ]
  },
  {
   "cell_type": "markdown",
   "id": "d8099b2f",
   "metadata": {},
   "source": [
    "# 1. Complement Naive Bayes Classifier"
   ]
  },
  {
   "cell_type": "markdown",
   "id": "5d87982e",
   "metadata": {},
   "source": [
    "## 1.1 With Lemmatization"
   ]
  },
  {
   "cell_type": "code",
   "execution_count": 10,
   "id": "33384d5d",
   "metadata": {},
   "outputs": [
    {
     "name": "stdout",
     "output_type": "stream",
     "text": [
      "              precision    recall  f1-score   support\n",
      "\n",
      "           0       0.91      0.79      0.84       134\n",
      "           1       0.81      0.92      0.86       134\n",
      "\n",
      "    accuracy                           0.85       268\n",
      "   macro avg       0.86      0.85      0.85       268\n",
      "weighted avg       0.86      0.85      0.85       268\n",
      "\n"
     ]
    }
   ],
   "source": [
    "# fit the training dataset on the Complement NB classifier\n",
    "Naive_lem = ComplementNB()\n",
    "t0 = time.time() #initial training time\n",
    "Naive_lem.fit(X_train_lem_Tfidf ,y_train_lem)\n",
    "predictions_NB_lem = Naive_lem.predict(X_test_lem_Tfidf)\n",
    "f_t0 = time.time()-t0 #stop training time\n",
    "print(classification_report(y_test_lem, predictions_NB_lem))"
   ]
  },
  {
   "cell_type": "code",
   "execution_count": 11,
   "id": "4bca6706",
   "metadata": {},
   "outputs": [
    {
     "name": "stdout",
     "output_type": "stream",
     "text": [
      "------------- PERFORMANCE NAIVE BAYES - LEMMATIZED -------------\n",
      "\n",
      "Training time -> 0.0034961700439453125  seconds \n",
      "\n",
      "Accuracy -  0.8544776119402985\n",
      "Precision -  0.8145695364238411\n",
      "Recall/Sensitivity -  0.917910447761194\n",
      "F1-Score -  0.8631578947368421\n",
      "Specificity -  0.7910447761194029\n",
      "Error rate -  0.1455223880597015\n",
      "AUC -  0.8544776119402985\n"
     ]
    },
    {
     "data": {
      "image/png": "[encoded data removed]",
      "text/plain": [
       "<Figure size 432x288 with 1 Axes>"
      ]
     },
     "metadata": {
      "needs_background": "light"
     },
     "output_type": "display_data"
    },
    {
     "data": {
      "image/png": "[encoded data removed]",
      "text/plain": [
       "<Figure size 432x288 with 2 Axes>"
      ]
     },
     "metadata": {
      "needs_background": "light"
     },
     "output_type": "display_data"
    }
   ],
   "source": [
    "print(\"------------- PERFORMANCE NAIVE BAYES - LEMMATIZED -------------\\n\")\n",
    "print(\"Training time ->\", f_t0, \" seconds \\n\")\n",
    "evaluation_measures(y_test_lem, predictions_NB_lem, 'nb_lem')"
   ]
  },
  {
   "cell_type": "markdown",
   "id": "a5ab1c02",
   "metadata": {},
   "source": [
    "### 1.1.2 Hyperparameter Tuning"
   ]
  },
  {
   "cell_type": "code",
   "execution_count": 12,
   "id": "8951e2bc",
   "metadata": {},
   "outputs": [],
   "source": [
    "#naive bayes GridSearchCV \n",
    "def naivebayes_tuning(x_train, y_train):\n",
    "    #defined values for parameters\n",
    "    grid_params = { 'alpha' : [1, 0.1, 0.01, 0.001, 0.0001, 0.00001]}\n",
    "    \n",
    "    # k-fold cross-validation\n",
    "    kfold = StratifiedKFold(n_splits=10, shuffle=True, random_state=0)\n",
    "\n",
    "    # grid search\n",
    "    grid_search = GridSearchCV(ComplementNB(), \n",
    "                              grid_params,\n",
    "                              verbose=1,\n",
    "                              cv = kfold,\n",
    "                              n_jobs= -1,\n",
    "                              refit='accuracy',\n",
    "                              scoring='accuracy')\n",
    "\n",
    "    results = grid_search.fit(x_train, y_train)\n",
    "    print(results.best_params_) #returns the best parameters"
   ]
  },
  {
   "cell_type": "code",
   "execution_count": 13,
   "id": "6e2810bc",
   "metadata": {},
   "outputs": [
    {
     "name": "stdout",
     "output_type": "stream",
     "text": [
      "Fitting 10 folds for each of 6 candidates, totalling 60 fits\n",
      "{'alpha': 1}\n"
     ]
    }
   ],
   "source": [
    "naivebayes_tuning(X_train_lem_Tfidf ,y_train_lem)"
   ]
  },
  {
   "cell_type": "markdown",
   "id": "0866dc31",
   "metadata": {},
   "source": [
    "The best alpha value is 1, which is the default alpha, so therefore the  previously trained above is the best model, no changes needed to be done."
   ]
  },
  {
   "cell_type": "markdown",
   "id": "46718139",
   "metadata": {},
   "source": [
    "### 1.1.3 Prediction"
   ]
  },
  {
   "cell_type": "code",
   "execution_count": 14,
   "id": "2436ba62",
   "metadata": {},
   "outputs": [],
   "source": [
    "#Prediction -Lemmatized\n",
    "lem_tweets = tweet_df['lemmatized_tweet']\n",
    "Tfidf_vect = TfidfVectorizer()\n",
    "lem_tfidf = Tfidf_vect.fit_transform(lem_tweets)\n",
    "predict = Naive_lem.predict(lem_tfidf)\n",
    "tweet_df['Prediction_Lem'] = predict\n",
    "tweet_df.to_csv(\"HashNaiveLem.csv\", index=False)"
   ]
  },
  {
   "cell_type": "code",
   "execution_count": 15,
   "id": "786aeebd",
   "metadata": {},
   "outputs": [
    {
     "data": {
      "text/html": [
       "<div>\n",
       "<style scoped>\n",
       "    .dataframe tbody tr th:only-of-type {\n",
       "        vertical-align: middle;\n",
       "    }\n",
       "\n",
       "    .dataframe tbody tr th {\n",
       "        vertical-align: top;\n",
       "    }\n",
       "\n",
       "    .dataframe thead tr th {\n",
       "        text-align: left;\n",
       "    }\n",
       "\n",
       "    .dataframe thead tr:last-of-type th {\n",
       "        text-align: right;\n",
       "    }\n",
       "</style>\n",
       "<table border=\"1\" class=\"dataframe\">\n",
       "  <thead>\n",
       "    <tr>\n",
       "      <th></th>\n",
       "      <th colspan=\"8\" halign=\"left\">author id</th>\n",
       "      <th colspan=\"8\" halign=\"left\">Category</th>\n",
       "    </tr>\n",
       "    <tr>\n",
       "      <th></th>\n",
       "      <th>count</th>\n",
       "      <th>mean</th>\n",
       "      <th>std</th>\n",
       "      <th>min</th>\n",
       "      <th>25%</th>\n",
       "      <th>50%</th>\n",
       "      <th>75%</th>\n",
       "      <th>max</th>\n",
       "      <th>count</th>\n",
       "      <th>mean</th>\n",
       "      <th>std</th>\n",
       "      <th>min</th>\n",
       "      <th>25%</th>\n",
       "      <th>50%</th>\n",
       "      <th>75%</th>\n",
       "      <th>max</th>\n",
       "    </tr>\n",
       "    <tr>\n",
       "      <th>Prediction_Lem</th>\n",
       "      <th></th>\n",
       "      <th></th>\n",
       "      <th></th>\n",
       "      <th></th>\n",
       "      <th></th>\n",
       "      <th></th>\n",
       "      <th></th>\n",
       "      <th></th>\n",
       "      <th></th>\n",
       "      <th></th>\n",
       "      <th></th>\n",
       "      <th></th>\n",
       "      <th></th>\n",
       "      <th></th>\n",
       "      <th></th>\n",
       "      <th></th>\n",
       "    </tr>\n",
       "  </thead>\n",
       "  <tbody>\n",
       "    <tr>\n",
       "      <th>0</th>\n",
       "      <td>644.0</td>\n",
       "      <td>2.697024e+17</td>\n",
       "      <td>4.824854e+17</td>\n",
       "      <td>2597581.0</td>\n",
       "      <td>1.285708e+08</td>\n",
       "      <td>563994424.0</td>\n",
       "      <td>4.813761e+09</td>\n",
       "      <td>1.444056e+18</td>\n",
       "      <td>644.0</td>\n",
       "      <td>0.040373</td>\n",
       "      <td>0.196985</td>\n",
       "      <td>0.0</td>\n",
       "      <td>0.0</td>\n",
       "      <td>0.0</td>\n",
       "      <td>0.0</td>\n",
       "      <td>1.0</td>\n",
       "    </tr>\n",
       "    <tr>\n",
       "      <th>1</th>\n",
       "      <td>696.0</td>\n",
       "      <td>2.170727e+17</td>\n",
       "      <td>4.612683e+17</td>\n",
       "      <td>1612011.0</td>\n",
       "      <td>1.131444e+08</td>\n",
       "      <td>186365425.0</td>\n",
       "      <td>2.693266e+09</td>\n",
       "      <td>1.471594e+18</td>\n",
       "      <td>696.0</td>\n",
       "      <td>0.925287</td>\n",
       "      <td>0.263116</td>\n",
       "      <td>0.0</td>\n",
       "      <td>1.0</td>\n",
       "      <td>1.0</td>\n",
       "      <td>1.0</td>\n",
       "      <td>1.0</td>\n",
       "    </tr>\n",
       "  </tbody>\n",
       "</table>\n",
       "</div>"
      ],
      "text/plain": [
       "               author id                                                       \\\n",
       "                   count          mean           std        min           25%   \n",
       "Prediction_Lem                                                                  \n",
       "0                  644.0  2.697024e+17  4.824854e+17  2597581.0  1.285708e+08   \n",
       "1                  696.0  2.170727e+17  4.612683e+17  1612011.0  1.131444e+08   \n",
       "\n",
       "                                                        Category            \\\n",
       "                        50%           75%           max    count      mean   \n",
       "Prediction_Lem                                                               \n",
       "0               563994424.0  4.813761e+09  1.444056e+18    644.0  0.040373   \n",
       "1               186365425.0  2.693266e+09  1.471594e+18    696.0  0.925287   \n",
       "\n",
       "                                                   \n",
       "                     std  min  25%  50%  75%  max  \n",
       "Prediction_Lem                                     \n",
       "0               0.196985  0.0  0.0  0.0  0.0  1.0  \n",
       "1               0.263116  0.0  1.0  1.0  1.0  1.0  "
      ]
     },
     "execution_count": 15,
     "metadata": {},
     "output_type": "execute_result"
    }
   ],
   "source": [
    "nb_lem_df = pd.read_csv(\"HashNaiveLem.csv\")\n",
    "nb_lem_df.groupby('Prediction_Lem').describe()"
   ]
  },
  {
   "cell_type": "markdown",
   "id": "5560c330",
   "metadata": {},
   "source": [
    "## 1.2 With Stemming"
   ]
  },
  {
   "cell_type": "code",
   "execution_count": 16,
   "id": "119be55c",
   "metadata": {},
   "outputs": [
    {
     "name": "stdout",
     "output_type": "stream",
     "text": [
      "              precision    recall  f1-score   support\n",
      "\n",
      "           0       0.91      0.80      0.85       134\n",
      "           1       0.82      0.93      0.87       134\n",
      "\n",
      "    accuracy                           0.86       268\n",
      "   macro avg       0.87      0.86      0.86       268\n",
      "weighted avg       0.87      0.86      0.86       268\n",
      "\n"
     ]
    }
   ],
   "source": [
    "# fit the training dataset on the NB classifier\n",
    "Naive_stem = ComplementNB()\n",
    "t1 = time.time()\n",
    "Naive_stem.fit(X_train_stem_Tfidf ,y_train_stem)\n",
    "predictions_NB_stem = Naive_stem.predict(X_test_stem_Tfidf)\n",
    "f_t1 = time.time()-t1\n",
    "print(classification_report(y_test_stem, predictions_NB_stem))"
   ]
  },
  {
   "cell_type": "code",
   "execution_count": 17,
   "id": "932e13ec",
   "metadata": {},
   "outputs": [
    {
     "name": "stdout",
     "output_type": "stream",
     "text": [
      "------------- PERFORMANCE NAIVE BAYES - STEMMING -------------\n",
      "\n",
      "Training time -> 0.003523111343383789  seconds \n",
      "\n",
      "Accuracy -  0.8619402985074627\n",
      "Precision -  0.8211920529801324\n",
      "Recall/Sensitivity -  0.9253731343283582\n",
      "F1-Score -  0.8701754385964913\n",
      "Specificity -  0.7985074626865671\n",
      "Error rate -  0.13805970149253732\n",
      "AUC -  0.8619402985074627\n"
     ]
    },
    {
     "data": {
      "image/png": "[encoded data removed]",
      "text/plain": [
       "<Figure size 432x288 with 1 Axes>"
      ]
     },
     "metadata": {
      "needs_background": "light"
     },
     "output_type": "display_data"
    },
    {
     "data": {
      "image/png": "[encoded data removed]",
      "text/plain": [
       "<Figure size 432x288 with 2 Axes>"
      ]
     },
     "metadata": {
      "needs_background": "light"
     },
     "output_type": "display_data"
    }
   ],
   "source": [
    "print(\"------------- PERFORMANCE NAIVE BAYES - STEMMING -------------\\n\")\n",
    "print(\"Training time ->\", f_t1, \" seconds \\n\")\n",
    "evaluation_measures(y_test_stem, predictions_NB_stem, 'nb_stem')"
   ]
  },
  {
   "cell_type": "markdown",
   "id": "2be0e28f",
   "metadata": {},
   "source": [
    "### 1.2.1 Hyperparameter Tuning"
   ]
  },
  {
   "cell_type": "code",
   "execution_count": 18,
   "id": "d01f503a",
   "metadata": {},
   "outputs": [
    {
     "name": "stdout",
     "output_type": "stream",
     "text": [
      "Fitting 10 folds for each of 6 candidates, totalling 60 fits\n",
      "{'alpha': 0.1}\n"
     ]
    }
   ],
   "source": [
    "naivebayes_tuning(X_train_stem_Tfidf ,y_train_stem)"
   ]
  },
  {
   "cell_type": "markdown",
   "id": "e2275af2",
   "metadata": {},
   "source": [
    "GridSearchCV returned alpha as 0.1. Let's apply the Complement Navie Bayes with alpha = 0.1"
   ]
  },
  {
   "cell_type": "code",
   "execution_count": 19,
   "id": "386bde99",
   "metadata": {},
   "outputs": [
    {
     "name": "stdout",
     "output_type": "stream",
     "text": [
      "              precision    recall  f1-score   support\n",
      "\n",
      "           0       0.87      0.79      0.83       134\n",
      "           1       0.81      0.88      0.84       134\n",
      "\n",
      "    accuracy                           0.84       268\n",
      "   macro avg       0.84      0.84      0.84       268\n",
      "weighted avg       0.84      0.84      0.84       268\n",
      "\n"
     ]
    }
   ],
   "source": [
    "Naive_stem_tune = ComplementNB(alpha=0.1)\n",
    "t01 = time.time()\n",
    "Naive_stem_tune.fit(X_train_stem_Tfidf ,y_train_stem)\n",
    "predictions_NB_stem_tune = Naive_stem_tune.predict(X_test_stem_Tfidf)\n",
    "f_t01 = time.time()-t01\n",
    "print(classification_report(y_test_stem, predictions_NB_stem_tune))"
   ]
  },
  {
   "cell_type": "code",
   "execution_count": 20,
   "id": "771a010c",
   "metadata": {},
   "outputs": [
    {
     "name": "stdout",
     "output_type": "stream",
     "text": [
      "------------- PERFORMANCE NAIVE BAYES - STEMMING -------------\n",
      "\n",
      "Training time -> 0.003523111343383789  seconds \n",
      "\n",
      "Accuracy -  0.835820895522388\n",
      "Precision -  0.8082191780821918\n",
      "Recall/Sensitivity -  0.8805970149253731\n",
      "F1-Score -  0.8428571428571429\n",
      "Specificity -  0.7910447761194029\n",
      "Error rate -  0.16417910447761194\n",
      "AUC -  0.8358208955223881\n"
     ]
    },
    {
     "data": {
      "image/png": "[encoded data removed]",
      "text/plain": [
       "<Figure size 432x288 with 1 Axes>"
      ]
     },
     "metadata": {
      "needs_background": "light"
     },
     "output_type": "display_data"
    },
    {
     "data": {
      "image/png": "[encoded data removed]",
      "text/plain": [
       "<Figure size 432x288 with 2 Axes>"
      ]
     },
     "metadata": {
      "needs_background": "light"
     },
     "output_type": "display_data"
    }
   ],
   "source": [
    "print(\"------------- PERFORMANCE NAIVE BAYES - STEMMING -------------\\n\")\n",
    "print(\"Training time ->\", f_t1, \" seconds \\n\")\n",
    "evaluation_measures(y_test_stem, predictions_NB_stem_tune, 'nb_stem')"
   ]
  },
  {
   "cell_type": "markdown",
   "id": "398e5387",
   "metadata": {},
   "source": [
    "Although GridSearchCV returned alpha as 0.1, the model gave a low performance compared to the initial stemmed CNB Model. "
   ]
  },
  {
   "cell_type": "markdown",
   "id": "bf9d3e2e",
   "metadata": {},
   "source": [
    "### 1.2.2 Prediction"
   ]
  },
  {
   "cell_type": "code",
   "execution_count": 21,
   "id": "27393279",
   "metadata": {
    "scrolled": true
   },
   "outputs": [],
   "source": [
    "#Prediction - Stemming\n",
    "df = pd.read_csv('HashNaiveLem.csv')\n",
    "stem_tweets = df['stemming_tweet']\n",
    "Tfidf_vect = TfidfVectorizer()\n",
    "stem_tfidf = Tfidf_vect.fit_transform(stem_tweets)\n",
    "predict = Naive_stem.predict(stem_tfidf)\n",
    "tweet_df['Prediction_Stem'] = predict\n",
    "tweet_df.to_csv(\"HashNaiveBayes-Predict.csv\", index=False)"
   ]
  },
  {
   "cell_type": "code",
   "execution_count": 22,
   "id": "46607734",
   "metadata": {},
   "outputs": [
    {
     "data": {
      "text/html": [
       "<div>\n",
       "<style scoped>\n",
       "    .dataframe tbody tr th:only-of-type {\n",
       "        vertical-align: middle;\n",
       "    }\n",
       "\n",
       "    .dataframe tbody tr th {\n",
       "        vertical-align: top;\n",
       "    }\n",
       "\n",
       "    .dataframe thead tr th {\n",
       "        text-align: left;\n",
       "    }\n",
       "\n",
       "    .dataframe thead tr:last-of-type th {\n",
       "        text-align: right;\n",
       "    }\n",
       "</style>\n",
       "<table border=\"1\" class=\"dataframe\">\n",
       "  <thead>\n",
       "    <tr>\n",
       "      <th></th>\n",
       "      <th colspan=\"8\" halign=\"left\">author id</th>\n",
       "      <th colspan=\"5\" halign=\"left\">Category</th>\n",
       "      <th colspan=\"8\" halign=\"left\">Prediction_Lem</th>\n",
       "    </tr>\n",
       "    <tr>\n",
       "      <th></th>\n",
       "      <th>count</th>\n",
       "      <th>mean</th>\n",
       "      <th>std</th>\n",
       "      <th>min</th>\n",
       "      <th>25%</th>\n",
       "      <th>50%</th>\n",
       "      <th>75%</th>\n",
       "      <th>max</th>\n",
       "      <th>count</th>\n",
       "      <th>mean</th>\n",
       "      <th>...</th>\n",
       "      <th>75%</th>\n",
       "      <th>max</th>\n",
       "      <th>count</th>\n",
       "      <th>mean</th>\n",
       "      <th>std</th>\n",
       "      <th>min</th>\n",
       "      <th>25%</th>\n",
       "      <th>50%</th>\n",
       "      <th>75%</th>\n",
       "      <th>max</th>\n",
       "    </tr>\n",
       "    <tr>\n",
       "      <th>Prediction_Stem</th>\n",
       "      <th></th>\n",
       "      <th></th>\n",
       "      <th></th>\n",
       "      <th></th>\n",
       "      <th></th>\n",
       "      <th></th>\n",
       "      <th></th>\n",
       "      <th></th>\n",
       "      <th></th>\n",
       "      <th></th>\n",
       "      <th></th>\n",
       "      <th></th>\n",
       "      <th></th>\n",
       "      <th></th>\n",
       "      <th></th>\n",
       "      <th></th>\n",
       "      <th></th>\n",
       "      <th></th>\n",
       "      <th></th>\n",
       "      <th></th>\n",
       "      <th></th>\n",
       "    </tr>\n",
       "  </thead>\n",
       "  <tbody>\n",
       "    <tr>\n",
       "      <th>0</th>\n",
       "      <td>643.0</td>\n",
       "      <td>2.679978e+17</td>\n",
       "      <td>4.809165e+17</td>\n",
       "      <td>2597581.0</td>\n",
       "      <td>125945841.0</td>\n",
       "      <td>557414073.0</td>\n",
       "      <td>4.709025e+09</td>\n",
       "      <td>1.444056e+18</td>\n",
       "      <td>643.0</td>\n",
       "      <td>0.038880</td>\n",
       "      <td>...</td>\n",
       "      <td>0.0</td>\n",
       "      <td>1.0</td>\n",
       "      <td>643.0</td>\n",
       "      <td>0.013997</td>\n",
       "      <td>0.117569</td>\n",
       "      <td>0.0</td>\n",
       "      <td>0.0</td>\n",
       "      <td>0.0</td>\n",
       "      <td>0.0</td>\n",
       "      <td>1.0</td>\n",
       "    </tr>\n",
       "    <tr>\n",
       "      <th>1</th>\n",
       "      <td>697.0</td>\n",
       "      <td>2.187207e+17</td>\n",
       "      <td>4.629857e+17</td>\n",
       "      <td>1612011.0</td>\n",
       "      <td>113144389.0</td>\n",
       "      <td>188283879.0</td>\n",
       "      <td>2.693266e+09</td>\n",
       "      <td>1.471594e+18</td>\n",
       "      <td>697.0</td>\n",
       "      <td>0.925395</td>\n",
       "      <td>...</td>\n",
       "      <td>1.0</td>\n",
       "      <td>1.0</td>\n",
       "      <td>697.0</td>\n",
       "      <td>0.985653</td>\n",
       "      <td>0.119003</td>\n",
       "      <td>0.0</td>\n",
       "      <td>1.0</td>\n",
       "      <td>1.0</td>\n",
       "      <td>1.0</td>\n",
       "      <td>1.0</td>\n",
       "    </tr>\n",
       "  </tbody>\n",
       "</table>\n",
       "<p>2 rows × 24 columns</p>\n",
       "</div>"
      ],
      "text/plain": [
       "                author id                                                      \\\n",
       "                    count          mean           std        min          25%   \n",
       "Prediction_Stem                                                                 \n",
       "0                   643.0  2.679978e+17  4.809165e+17  2597581.0  125945841.0   \n",
       "1                   697.0  2.187207e+17  4.629857e+17  1612011.0  113144389.0   \n",
       "\n",
       "                                                         Category            \\\n",
       "                         50%           75%           max    count      mean   \n",
       "Prediction_Stem                                                               \n",
       "0                557414073.0  4.709025e+09  1.444056e+18    643.0  0.038880   \n",
       "1                188283879.0  2.693266e+09  1.471594e+18    697.0  0.925395   \n",
       "\n",
       "                 ...           Prediction_Lem                                \\\n",
       "                 ...  75%  max          count      mean       std  min  25%   \n",
       "Prediction_Stem  ...                                                          \n",
       "0                ...  0.0  1.0          643.0  0.013997  0.117569  0.0  0.0   \n",
       "1                ...  1.0  1.0          697.0  0.985653  0.119003  0.0  1.0   \n",
       "\n",
       "                                \n",
       "                 50%  75%  max  \n",
       "Prediction_Stem                 \n",
       "0                0.0  0.0  1.0  \n",
       "1                1.0  1.0  1.0  \n",
       "\n",
       "[2 rows x 24 columns]"
      ]
     },
     "execution_count": 22,
     "metadata": {},
     "output_type": "execute_result"
    }
   ],
   "source": [
    "nb_stem_df = pd.read_csv(\"HashNaiveBayes-Predict.csv\")\n",
    "nb_stem_df.groupby('Prediction_Stem').describe()"
   ]
  },
  {
   "cell_type": "markdown",
   "id": "83b78a72",
   "metadata": {},
   "source": [
    "Overall best model was initial stemmed CNB"
   ]
  },
  {
   "cell_type": "markdown",
   "id": "bbe59971",
   "metadata": {},
   "source": [
    "# 2. Support Vector Machine (SVM)"
   ]
  },
  {
   "cell_type": "markdown",
   "id": "2912f9dc",
   "metadata": {},
   "source": [
    "## 2.1 With Lemmatization"
   ]
  },
  {
   "cell_type": "code",
   "execution_count": 23,
   "id": "a7cfe6a1",
   "metadata": {},
   "outputs": [
    {
     "name": "stdout",
     "output_type": "stream",
     "text": [
      "              precision    recall  f1-score   support\n",
      "\n",
      "           0       0.86      0.81      0.84       134\n",
      "           1       0.82      0.87      0.84       134\n",
      "\n",
      "    accuracy                           0.84       268\n",
      "   macro avg       0.84      0.84      0.84       268\n",
      "weighted avg       0.84      0.84      0.84       268\n",
      "\n"
     ]
    }
   ],
   "source": [
    "# Classifier - Algorithm - SVM\n",
    "# fit the training dataset on the classifier\n",
    "SVM_lem = svm.SVC(kernel = 'linear')\n",
    "t2 = time.time()\n",
    "SVM_lem.fit(X_train_lem_Tfidf,y_train_lem)\n",
    "# predict the labels on validation dataset\n",
    "predictions_SVM_lem = SVM_lem.predict(X_test_lem_Tfidf)\n",
    "f_t2 = time.time()-t2\n",
    "print(classification_report(y_test_lem, predictions_SVM_lem))"
   ]
  },
  {
   "cell_type": "code",
   "execution_count": 24,
   "id": "f782b517",
   "metadata": {},
   "outputs": [
    {
     "name": "stdout",
     "output_type": "stream",
     "text": [
      "------------- PERFORMANCE SVM - LEMMATIZED -------------\n",
      "\n",
      "Training time -> 0.24844598770141602  seconds \n",
      "\n",
      "Accuracy -  0.8395522388059702\n",
      "Precision -  0.8226950354609929\n",
      "Recall/Sensitivity -  0.8656716417910447\n",
      "F1-Score -  0.8436363636363635\n",
      "Specificity -  0.8134328358208955\n",
      "Error rate -  0.16044776119402984\n",
      "AUC -  0.8395522388059701\n"
     ]
    },
    {
     "data": {
      "image/png": "[encoded data removed]",
      "text/plain": [
       "<Figure size 432x288 with 1 Axes>"
      ]
     },
     "metadata": {
      "needs_background": "light"
     },
     "output_type": "display_data"
    },
    {
     "data": {
      "image/png": "[encoded data removed]",
      "text/plain": [
       "<Figure size 432x288 with 2 Axes>"
      ]
     },
     "metadata": {
      "needs_background": "light"
     },
     "output_type": "display_data"
    }
   ],
   "source": [
    "print(\"------------- PERFORMANCE SVM - LEMMATIZED -------------\\n\")\n",
    "print(\"Training time ->\", f_t2, \" seconds \\n\")\n",
    "evaluation_measures(y_test_lem, predictions_SVM_lem, 'svm_Lem')"
   ]
  },
  {
   "cell_type": "markdown",
   "id": "fc8a05da",
   "metadata": {},
   "source": [
    "### 2.1.1 Hyperparameter Tuning"
   ]
  },
  {
   "cell_type": "code",
   "execution_count": 25,
   "id": "0491c6c9",
   "metadata": {},
   "outputs": [],
   "source": [
    "def svm_tuning(x_train, y_train):\n",
    "    grid_params = { 'C':[0.1,1,10],'degree':[1,2,3,4,5,6],'gamma': [1, 0.1, 0.01, 0.001, 0.0001], \n",
    "                   'kernel': ['rbf', 'linear', 'sigmoid', 'poly']}\n",
    "    \n",
    "    # Set up the k-fold cross-validation\n",
    "    kfold = StratifiedKFold(n_splits=10, shuffle=True)\n",
    "\n",
    "    grid_search = GridSearchCV(svm.SVC(), \n",
    "                              grid_params,\n",
    "                              verbose=1,\n",
    "                              cv = kfold,\n",
    "                              n_jobs= -1,\n",
    "                              refit='accuracy',\n",
    "                              scoring='accuracy')\n",
    "\n",
    "    results = grid_search.fit(x_train, y_train)\n",
    "    print(results.best_params_)"
   ]
  },
  {
   "cell_type": "code",
   "execution_count": 26,
   "id": "aeae8ecc",
   "metadata": {},
   "outputs": [
    {
     "name": "stdout",
     "output_type": "stream",
     "text": [
      "Fitting 10 folds for each of 360 candidates, totalling 3600 fits\n",
      "{'C': 10, 'degree': 1, 'gamma': 1, 'kernel': 'rbf'}\n"
     ]
    }
   ],
   "source": [
    "svm_tuning(X_train_lem_Tfidf ,y_train_lem)"
   ]
  },
  {
   "cell_type": "markdown",
   "id": "107a4e50",
   "metadata": {},
   "source": [
    "Applying SVM with the returned best paramters"
   ]
  },
  {
   "cell_type": "code",
   "execution_count": 27,
   "id": "101133ad",
   "metadata": {},
   "outputs": [
    {
     "name": "stdout",
     "output_type": "stream",
     "text": [
      "              precision    recall  f1-score   support\n",
      "\n",
      "           0       0.87      0.90      0.88       134\n",
      "           1       0.89      0.87      0.88       134\n",
      "\n",
      "    accuracy                           0.88       268\n",
      "   macro avg       0.88      0.88      0.88       268\n",
      "weighted avg       0.88      0.88      0.88       268\n",
      "\n"
     ]
    }
   ],
   "source": [
    "# fit the training dataset on the classifier\n",
    "SVM_lem_tune = svm.SVC(C=10, degree = 1, gamma=1, kernel='rbf')\n",
    "t3 = time.time()\n",
    "SVM_lem_tune.fit(X_train_lem_Tfidf,y_train_lem)\n",
    "# predict the labels on validation dataset\n",
    "predictions_SVM_lem_tune = SVM_lem_tune.predict(X_test_lem_Tfidf)\n",
    "f_t3 = time.time()-t3\n",
    "print(classification_report(y_test_lem, predictions_SVM_lem_tune))"
   ]
  },
  {
   "cell_type": "code",
   "execution_count": 28,
   "id": "adacfeea",
   "metadata": {},
   "outputs": [
    {
     "name": "stdout",
     "output_type": "stream",
     "text": [
      "------------- PERFORMANCE SVM AFTER TUNING - LEMMATIZED -------------\n",
      "\n",
      "Training time -> 0.2638099193572998  seconds \n",
      "\n",
      "Accuracy -  0.8805970149253731\n",
      "Precision -  0.8923076923076924\n",
      "Recall/Sensitivity -  0.8656716417910447\n",
      "F1-Score -  0.8787878787878788\n",
      "Specificity -  0.8955223880597015\n",
      "Error rate -  0.11940298507462686\n",
      "AUC -  0.8805970149253731\n"
     ]
    },
    {
     "data": {
      "image/png": "[encoded data removed]",
      "text/plain": [
       "<Figure size 432x288 with 1 Axes>"
      ]
     },
     "metadata": {
      "needs_background": "light"
     },
     "output_type": "display_data"
    },
    {
     "data": {
      "image/png": "[encoded data removed]",
      "text/plain": [
       "<Figure size 432x288 with 2 Axes>"
      ]
     },
     "metadata": {
      "needs_background": "light"
     },
     "output_type": "display_data"
    }
   ],
   "source": [
    "print(\"------------- PERFORMANCE SVM AFTER TUNING - LEMMATIZED -------------\\n\")\n",
    "print(\"Training time ->\", f_t3, \" seconds \\n\")\n",
    "evaluation_measures(y_test_lem, predictions_SVM_lem_tune, 'svm_Lem_tuning')"
   ]
  },
  {
   "cell_type": "markdown",
   "id": "a1e651b2",
   "metadata": {},
   "source": [
    "### 2.1.2 Prediction"
   ]
  },
  {
   "cell_type": "code",
   "execution_count": 29,
   "id": "b31e3f33",
   "metadata": {},
   "outputs": [],
   "source": [
    "#Prediction -Lemmatized\n",
    "lem_tweets = tweet_df['lemmatized_tweet']\n",
    "Tfidf_vect = TfidfVectorizer()\n",
    "lem_tfidf = Tfidf_vect.fit_transform(lem_tweets)\n",
    "predict = SVM_lem_tune.predict(lem_tfidf)\n",
    "tweet_df['Prediction_Lem'] = predict\n",
    "tweet_df.to_csv(\"HashSVMLem.csv\", index=False)"
   ]
  },
  {
   "cell_type": "code",
   "execution_count": 30,
   "id": "9a811b1e",
   "metadata": {},
   "outputs": [
    {
     "data": {
      "text/html": [
       "<div>\n",
       "<style scoped>\n",
       "    .dataframe tbody tr th:only-of-type {\n",
       "        vertical-align: middle;\n",
       "    }\n",
       "\n",
       "    .dataframe tbody tr th {\n",
       "        vertical-align: top;\n",
       "    }\n",
       "\n",
       "    .dataframe thead tr th {\n",
       "        text-align: left;\n",
       "    }\n",
       "\n",
       "    .dataframe thead tr:last-of-type th {\n",
       "        text-align: right;\n",
       "    }\n",
       "</style>\n",
       "<table border=\"1\" class=\"dataframe\">\n",
       "  <thead>\n",
       "    <tr>\n",
       "      <th></th>\n",
       "      <th colspan=\"8\" halign=\"left\">author id</th>\n",
       "      <th colspan=\"5\" halign=\"left\">Category</th>\n",
       "      <th colspan=\"8\" halign=\"left\">Prediction_Stem</th>\n",
       "    </tr>\n",
       "    <tr>\n",
       "      <th></th>\n",
       "      <th>count</th>\n",
       "      <th>mean</th>\n",
       "      <th>std</th>\n",
       "      <th>min</th>\n",
       "      <th>25%</th>\n",
       "      <th>50%</th>\n",
       "      <th>75%</th>\n",
       "      <th>max</th>\n",
       "      <th>count</th>\n",
       "      <th>mean</th>\n",
       "      <th>...</th>\n",
       "      <th>75%</th>\n",
       "      <th>max</th>\n",
       "      <th>count</th>\n",
       "      <th>mean</th>\n",
       "      <th>std</th>\n",
       "      <th>min</th>\n",
       "      <th>25%</th>\n",
       "      <th>50%</th>\n",
       "      <th>75%</th>\n",
       "      <th>max</th>\n",
       "    </tr>\n",
       "    <tr>\n",
       "      <th>Prediction_Lem</th>\n",
       "      <th></th>\n",
       "      <th></th>\n",
       "      <th></th>\n",
       "      <th></th>\n",
       "      <th></th>\n",
       "      <th></th>\n",
       "      <th></th>\n",
       "      <th></th>\n",
       "      <th></th>\n",
       "      <th></th>\n",
       "      <th></th>\n",
       "      <th></th>\n",
       "      <th></th>\n",
       "      <th></th>\n",
       "      <th></th>\n",
       "      <th></th>\n",
       "      <th></th>\n",
       "      <th></th>\n",
       "      <th></th>\n",
       "      <th></th>\n",
       "      <th></th>\n",
       "    </tr>\n",
       "  </thead>\n",
       "  <tbody>\n",
       "    <tr>\n",
       "      <th>0</th>\n",
       "      <td>674.0</td>\n",
       "      <td>2.719522e+17</td>\n",
       "      <td>4.847782e+17</td>\n",
       "      <td>2597581.0</td>\n",
       "      <td>125584734.0</td>\n",
       "      <td>557414073.0</td>\n",
       "      <td>4.851756e+09</td>\n",
       "      <td>1.444056e+18</td>\n",
       "      <td>674.0</td>\n",
       "      <td>0.026706</td>\n",
       "      <td>...</td>\n",
       "      <td>0.0</td>\n",
       "      <td>1.0</td>\n",
       "      <td>674.0</td>\n",
       "      <td>0.074184</td>\n",
       "      <td>0.262265</td>\n",
       "      <td>0.0</td>\n",
       "      <td>0.0</td>\n",
       "      <td>0.0</td>\n",
       "      <td>0.0</td>\n",
       "      <td>1.0</td>\n",
       "    </tr>\n",
       "    <tr>\n",
       "      <th>1</th>\n",
       "      <td>666.0</td>\n",
       "      <td>2.124251e+17</td>\n",
       "      <td>4.574156e+17</td>\n",
       "      <td>1612011.0</td>\n",
       "      <td>113144389.0</td>\n",
       "      <td>186365425.0</td>\n",
       "      <td>2.693266e+09</td>\n",
       "      <td>1.471594e+18</td>\n",
       "      <td>666.0</td>\n",
       "      <td>0.978979</td>\n",
       "      <td>...</td>\n",
       "      <td>1.0</td>\n",
       "      <td>1.0</td>\n",
       "      <td>666.0</td>\n",
       "      <td>0.971471</td>\n",
       "      <td>0.166602</td>\n",
       "      <td>0.0</td>\n",
       "      <td>1.0</td>\n",
       "      <td>1.0</td>\n",
       "      <td>1.0</td>\n",
       "      <td>1.0</td>\n",
       "    </tr>\n",
       "  </tbody>\n",
       "</table>\n",
       "<p>2 rows × 24 columns</p>\n",
       "</div>"
      ],
      "text/plain": [
       "               author id                                                      \\\n",
       "                   count          mean           std        min          25%   \n",
       "Prediction_Lem                                                                 \n",
       "0                  674.0  2.719522e+17  4.847782e+17  2597581.0  125584734.0   \n",
       "1                  666.0  2.124251e+17  4.574156e+17  1612011.0  113144389.0   \n",
       "\n",
       "                                                        Category            \\\n",
       "                        50%           75%           max    count      mean   \n",
       "Prediction_Lem                                                               \n",
       "0               557414073.0  4.851756e+09  1.444056e+18    674.0  0.026706   \n",
       "1               186365425.0  2.693266e+09  1.471594e+18    666.0  0.978979   \n",
       "\n",
       "                ...           Prediction_Stem                                \\\n",
       "                ...  75%  max           count      mean       std  min  25%   \n",
       "Prediction_Lem  ...                                                           \n",
       "0               ...  0.0  1.0           674.0  0.074184  0.262265  0.0  0.0   \n",
       "1               ...  1.0  1.0           666.0  0.971471  0.166602  0.0  1.0   \n",
       "\n",
       "                               \n",
       "                50%  75%  max  \n",
       "Prediction_Lem                 \n",
       "0               0.0  0.0  1.0  \n",
       "1               1.0  1.0  1.0  \n",
       "\n",
       "[2 rows x 24 columns]"
      ]
     },
     "execution_count": 30,
     "metadata": {},
     "output_type": "execute_result"
    }
   ],
   "source": [
    "svm_df = pd.read_csv(\"HashSVMLem.csv\")\n",
    "svm_df.groupby('Prediction_Lem').describe()"
   ]
  },
  {
   "cell_type": "markdown",
   "id": "20541453",
   "metadata": {},
   "source": [
    "## 2.2 With Stemming"
   ]
  },
  {
   "cell_type": "code",
   "execution_count": 31,
   "id": "2fa158c0",
   "metadata": {},
   "outputs": [
    {
     "name": "stdout",
     "output_type": "stream",
     "text": [
      "              precision    recall  f1-score   support\n",
      "\n",
      "           0       0.87      0.87      0.87       134\n",
      "           1       0.87      0.87      0.87       134\n",
      "\n",
      "    accuracy                           0.87       268\n",
      "   macro avg       0.87      0.87      0.87       268\n",
      "weighted avg       0.87      0.87      0.87       268\n",
      "\n"
     ]
    }
   ],
   "source": [
    "# Classifier - Algorithm - SVM\n",
    "# fit the training dataset on the classifier\n",
    "SVM_stem = svm.SVC(kernel = 'linear')\n",
    "t4 = time.time()\n",
    "SVM_stem.fit(X_train_stem_Tfidf,y_train_stem)\n",
    "# predict the labels on validation dataset\n",
    "predictions_SVM_stem = SVM_stem.predict(X_test_stem_Tfidf)\n",
    "f_t4 = time.time()-t4\n",
    "print(classification_report(y_test_stem, predictions_SVM_stem))"
   ]
  },
  {
   "cell_type": "code",
   "execution_count": 32,
   "id": "de0dd0c7",
   "metadata": {},
   "outputs": [
    {
     "name": "stdout",
     "output_type": "stream",
     "text": [
      "------------- PERFORMANCE SVM - STEMMING -------------\n",
      "\n",
      "Training time -> 0.23643994331359863  seconds \n",
      "\n",
      "Accuracy -  0.8656716417910447\n",
      "Precision -  0.8656716417910447\n",
      "Recall/Sensitivity -  0.8656716417910447\n",
      "F1-Score -  0.8656716417910447\n",
      "Specificity -  0.8656716417910447\n",
      "Error rate -  0.13432835820895522\n",
      "AUC -  0.8656716417910447\n"
     ]
    },
    {
     "data": {
      "image/png": "[encoded data removed]",
      "text/plain": [
       "<Figure size 432x288 with 1 Axes>"
      ]
     },
     "metadata": {
      "needs_background": "light"
     },
     "output_type": "display_data"
    },
    {
     "data": {
      "image/png": "[encoded data removed]",
      "text/plain": [
       "<Figure size 432x288 with 2 Axes>"
      ]
     },
     "metadata": {
      "needs_background": "light"
     },
     "output_type": "display_data"
    }
   ],
   "source": [
    "print(\"------------- PERFORMANCE SVM - STEMMING -------------\\n\")\n",
    "print(\"Training time ->\", f_t4, \" seconds \\n\")\n",
    "evaluation_measures(y_test_stem, predictions_SVM_stem, 'svm_stem')"
   ]
  },
  {
   "cell_type": "markdown",
   "id": "599f2457",
   "metadata": {},
   "source": [
    "### 2.2.1 Hyperparameter Tuning"
   ]
  },
  {
   "cell_type": "code",
   "execution_count": 33,
   "id": "fa2cf46d",
   "metadata": {},
   "outputs": [
    {
     "name": "stdout",
     "output_type": "stream",
     "text": [
      "Fitting 10 folds for each of 360 candidates, totalling 3600 fits\n",
      "{'C': 10, 'degree': 1, 'gamma': 1, 'kernel': 'rbf'}\n"
     ]
    }
   ],
   "source": [
    "svm_tuning(X_train_stem_Tfidf,y_train_stem)"
   ]
  },
  {
   "cell_type": "markdown",
   "id": "2ce7ef30",
   "metadata": {},
   "source": [
    "Applying SVM for stemming again with the returned best parameters"
   ]
  },
  {
   "cell_type": "code",
   "execution_count": 34,
   "id": "db9b4791",
   "metadata": {},
   "outputs": [
    {
     "name": "stdout",
     "output_type": "stream",
     "text": [
      "              precision    recall  f1-score   support\n",
      "\n",
      "           0       0.85      0.90      0.87       134\n",
      "           1       0.89      0.84      0.86       134\n",
      "\n",
      "    accuracy                           0.87       268\n",
      "   macro avg       0.87      0.87      0.87       268\n",
      "weighted avg       0.87      0.87      0.87       268\n",
      "\n"
     ]
    }
   ],
   "source": [
    "# fit the training dataset on the classifier\n",
    "SVM_stem_tune = svm.SVC(C=10, gamma=1, degree=1, kernel='rbf')\n",
    "t5 = time.time()\n",
    "SVM_stem_tune.fit(X_train_stem_Tfidf,y_train_stem)\n",
    "# predict the labels on validation dataset\n",
    "predictions_SVM_stem_tune = SVM_stem_tune.predict(X_test_stem_Tfidf)\n",
    "f_t5 = time.time()-t5\n",
    "print(classification_report(y_test_stem, predictions_SVM_stem_tune))"
   ]
  },
  {
   "cell_type": "code",
   "execution_count": 35,
   "id": "a10ce709",
   "metadata": {},
   "outputs": [
    {
     "name": "stdout",
     "output_type": "stream",
     "text": [
      "------------- PERFORMANCE SVM AFTER TUNING - STEMMING -------------\n",
      "\n",
      "Training time -> 0.26150012016296387  seconds \n",
      "\n",
      "Accuracy -  0.8656716417910447\n",
      "Precision -  0.8888888888888888\n",
      "Recall/Sensitivity -  0.835820895522388\n",
      "F1-Score -  0.8615384615384615\n",
      "Specificity -  0.8955223880597015\n",
      "Error rate -  0.13432835820895522\n",
      "AUC -  0.8656716417910447\n"
     ]
    },
    {
     "data": {
      "image/png": "[encoded data removed]",
      "text/plain": [
       "<Figure size 432x288 with 1 Axes>"
      ]
     },
     "metadata": {
      "needs_background": "light"
     },
     "output_type": "display_data"
    },
    {
     "data": {
      "image/png": "[encoded data removed]",
      "text/plain": [
       "<Figure size 432x288 with 2 Axes>"
      ]
     },
     "metadata": {
      "needs_background": "light"
     },
     "output_type": "display_data"
    }
   ],
   "source": [
    "print(\"------------- PERFORMANCE SVM AFTER TUNING - STEMMING -------------\\n\")\n",
    "print(\"Training time ->\", f_t5, \" seconds \\n\")\n",
    "evaluation_measures(y_test_stem, predictions_SVM_stem_tune, 'svm_stem_tuning')"
   ]
  },
  {
   "cell_type": "markdown",
   "id": "417dbd3b",
   "metadata": {},
   "source": [
    "Tuning didn't do any changes to the Stemming SVM Model. Got default values for kernal(rbf), and C(1) as the best parameters. Only gamma got 1, but it didn't affect the model to do any changes."
   ]
  },
  {
   "cell_type": "markdown",
   "id": "b6442378",
   "metadata": {},
   "source": [
    "### 2.2.2 Prediction"
   ]
  },
  {
   "cell_type": "code",
   "execution_count": 36,
   "id": "ebea85be",
   "metadata": {},
   "outputs": [],
   "source": [
    "#Prediction - Stemming\n",
    "tweet_df = pd.read_csv('HashSVMLem.csv')\n",
    "stem_tweets = df['stemming_tweet']\n",
    "Tfidf_vect = TfidfVectorizer()\n",
    "stem_tfidf = Tfidf_vect.fit_transform(stem_tweets)\n",
    "predict = SVM_stem.predict(stem_tfidf)\n",
    "tweet_df['Prediction_Stem'] = predict\n",
    "tweet_df.to_csv(\"HashSVM-Predict.csv\", index=False)"
   ]
  },
  {
   "cell_type": "code",
   "execution_count": 37,
   "id": "a33205fb",
   "metadata": {},
   "outputs": [
    {
     "data": {
      "text/html": [
       "<div>\n",
       "<style scoped>\n",
       "    .dataframe tbody tr th:only-of-type {\n",
       "        vertical-align: middle;\n",
       "    }\n",
       "\n",
       "    .dataframe tbody tr th {\n",
       "        vertical-align: top;\n",
       "    }\n",
       "\n",
       "    .dataframe thead tr th {\n",
       "        text-align: left;\n",
       "    }\n",
       "\n",
       "    .dataframe thead tr:last-of-type th {\n",
       "        text-align: right;\n",
       "    }\n",
       "</style>\n",
       "<table border=\"1\" class=\"dataframe\">\n",
       "  <thead>\n",
       "    <tr>\n",
       "      <th></th>\n",
       "      <th colspan=\"8\" halign=\"left\">author id</th>\n",
       "      <th colspan=\"5\" halign=\"left\">Category</th>\n",
       "      <th colspan=\"8\" halign=\"left\">Prediction_Lem</th>\n",
       "    </tr>\n",
       "    <tr>\n",
       "      <th></th>\n",
       "      <th>count</th>\n",
       "      <th>mean</th>\n",
       "      <th>std</th>\n",
       "      <th>min</th>\n",
       "      <th>25%</th>\n",
       "      <th>50%</th>\n",
       "      <th>75%</th>\n",
       "      <th>max</th>\n",
       "      <th>count</th>\n",
       "      <th>mean</th>\n",
       "      <th>...</th>\n",
       "      <th>75%</th>\n",
       "      <th>max</th>\n",
       "      <th>count</th>\n",
       "      <th>mean</th>\n",
       "      <th>std</th>\n",
       "      <th>min</th>\n",
       "      <th>25%</th>\n",
       "      <th>50%</th>\n",
       "      <th>75%</th>\n",
       "      <th>max</th>\n",
       "    </tr>\n",
       "    <tr>\n",
       "      <th>Prediction_Stem</th>\n",
       "      <th></th>\n",
       "      <th></th>\n",
       "      <th></th>\n",
       "      <th></th>\n",
       "      <th></th>\n",
       "      <th></th>\n",
       "      <th></th>\n",
       "      <th></th>\n",
       "      <th></th>\n",
       "      <th></th>\n",
       "      <th></th>\n",
       "      <th></th>\n",
       "      <th></th>\n",
       "      <th></th>\n",
       "      <th></th>\n",
       "      <th></th>\n",
       "      <th></th>\n",
       "      <th></th>\n",
       "      <th></th>\n",
       "      <th></th>\n",
       "      <th></th>\n",
       "    </tr>\n",
       "  </thead>\n",
       "  <tbody>\n",
       "    <tr>\n",
       "      <th>0</th>\n",
       "      <td>671.0</td>\n",
       "      <td>2.735454e+17</td>\n",
       "      <td>4.862138e+17</td>\n",
       "      <td>2597581.0</td>\n",
       "      <td>121690905.0</td>\n",
       "      <td>557414073.0</td>\n",
       "      <td>4.882709e+09</td>\n",
       "      <td>1.444056e+18</td>\n",
       "      <td>671.0</td>\n",
       "      <td>0.043219</td>\n",
       "      <td>...</td>\n",
       "      <td>0.0</td>\n",
       "      <td>1.0</td>\n",
       "      <td>671.0</td>\n",
       "      <td>0.026826</td>\n",
       "      <td>0.161694</td>\n",
       "      <td>0.0</td>\n",
       "      <td>0.0</td>\n",
       "      <td>0.0</td>\n",
       "      <td>0.0</td>\n",
       "      <td>1.0</td>\n",
       "    </tr>\n",
       "    <tr>\n",
       "      <th>1</th>\n",
       "      <td>669.0</td>\n",
       "      <td>2.110940e+17</td>\n",
       "      <td>4.558154e+17</td>\n",
       "      <td>1612011.0</td>\n",
       "      <td>113144389.0</td>\n",
       "      <td>186365425.0</td>\n",
       "      <td>2.693266e+09</td>\n",
       "      <td>1.471594e+18</td>\n",
       "      <td>669.0</td>\n",
       "      <td>0.958146</td>\n",
       "      <td>...</td>\n",
       "      <td>1.0</td>\n",
       "      <td>1.0</td>\n",
       "      <td>669.0</td>\n",
       "      <td>0.968610</td>\n",
       "      <td>0.174500</td>\n",
       "      <td>0.0</td>\n",
       "      <td>1.0</td>\n",
       "      <td>1.0</td>\n",
       "      <td>1.0</td>\n",
       "      <td>1.0</td>\n",
       "    </tr>\n",
       "  </tbody>\n",
       "</table>\n",
       "<p>2 rows × 24 columns</p>\n",
       "</div>"
      ],
      "text/plain": [
       "                author id                                                      \\\n",
       "                    count          mean           std        min          25%   \n",
       "Prediction_Stem                                                                 \n",
       "0                   671.0  2.735454e+17  4.862138e+17  2597581.0  121690905.0   \n",
       "1                   669.0  2.110940e+17  4.558154e+17  1612011.0  113144389.0   \n",
       "\n",
       "                                                         Category            \\\n",
       "                         50%           75%           max    count      mean   \n",
       "Prediction_Stem                                                               \n",
       "0                557414073.0  4.882709e+09  1.444056e+18    671.0  0.043219   \n",
       "1                186365425.0  2.693266e+09  1.471594e+18    669.0  0.958146   \n",
       "\n",
       "                 ...           Prediction_Lem                                \\\n",
       "                 ...  75%  max          count      mean       std  min  25%   \n",
       "Prediction_Stem  ...                                                          \n",
       "0                ...  0.0  1.0          671.0  0.026826  0.161694  0.0  0.0   \n",
       "1                ...  1.0  1.0          669.0  0.968610  0.174500  0.0  1.0   \n",
       "\n",
       "                                \n",
       "                 50%  75%  max  \n",
       "Prediction_Stem                 \n",
       "0                0.0  0.0  1.0  \n",
       "1                1.0  1.0  1.0  \n",
       "\n",
       "[2 rows x 24 columns]"
      ]
     },
     "execution_count": 37,
     "metadata": {},
     "output_type": "execute_result"
    }
   ],
   "source": [
    "svm = pd.read_csv(\"HashSVM-Predict.csv\")\n",
    "svm.groupby('Prediction_Stem').describe()"
   ]
  },
  {
   "cell_type": "markdown",
   "id": "99ac071a",
   "metadata": {},
   "source": [
    "Overall the lemmetized tuned SVM model had the highest performance"
   ]
  },
  {
   "cell_type": "markdown",
   "id": "0bebeca4",
   "metadata": {},
   "source": [
    "# 3. k-Nearest Neighbors (KNN)"
   ]
  },
  {
   "cell_type": "markdown",
   "id": "978fcca9",
   "metadata": {},
   "source": [
    "## 3.1 With Lemmatization"
   ]
  },
  {
   "cell_type": "code",
   "execution_count": 38,
   "id": "0c9599ff",
   "metadata": {},
   "outputs": [],
   "source": [
    "def k_neighbors(x_train, y_train, x_test, y_test, name):\n",
    "    \n",
    "    #Finding a best value of k for better accuracy\n",
    "    k_range=range(1,33)\n",
    "    scores=[]\n",
    "    \n",
    "    #knn with cross validation\n",
    "    for k in k_range:\n",
    "        knn=KNeighborsClassifier(n_neighbors=k)\n",
    "        cv_scores = cross_val_score(knn, x_train, y_train, cv = 10, scoring ='accuracy')\n",
    "        scores.append(np.mean(cv_scores))\n",
    "        \n",
    "    #plotting line chart for accuracies\n",
    "    plt.figure(figsize=(10,10))\n",
    "    plt.plot(k_range, scores, 'o-')\n",
    "    for x,y in zip(k_range, scores):\n",
    "        label = \"{0}\".format(x)\n",
    "        plt.annotate(str(label), (x,y), textcoords=\"offset points\", xytext=(0,10), fontsize=14, ha='center') \n",
    "    plt.xlabel('k value')\n",
    "    plt.ylabel('Accuracy')\n",
    "    plt.savefig('KNNAccuracyCurve ' + str(name) + '.png') #saving plot\n",
    "    plt.grid()"
   ]
  },
  {
   "cell_type": "code",
   "execution_count": 39,
   "id": "92baf020",
   "metadata": {},
   "outputs": [
    {
     "data": {
      "image/png": "[encoded data removed]",
      "text/plain": [
       "<Figure size 720x720 with 1 Axes>"
      ]
     },
     "metadata": {
      "needs_background": "light"
     },
     "output_type": "display_data"
    }
   ],
   "source": [
    "k_neighbors(X_train_lem_Tfidf,y_train_lem, X_test_lem_Tfidf, y_test_lem, 'lem')"
   ]
  },
  {
   "cell_type": "markdown",
   "id": "35c8d953",
   "metadata": {},
   "source": [
    "Highest peak is at point 20, therefore let's apply KNN with n_neighbors as 20"
   ]
  },
  {
   "cell_type": "code",
   "execution_count": 40,
   "id": "7f379915",
   "metadata": {},
   "outputs": [
    {
     "name": "stdout",
     "output_type": "stream",
     "text": [
      "              precision    recall  f1-score   support\n",
      "\n",
      "           0       0.83      0.79      0.81       134\n",
      "           1       0.80      0.84      0.82       134\n",
      "\n",
      "    accuracy                           0.81       268\n",
      "   macro avg       0.81      0.81      0.81       268\n",
      "weighted avg       0.81      0.81      0.81       268\n",
      "\n"
     ]
    }
   ],
   "source": [
    "#KNN\n",
    "knn_lem = KNeighborsClassifier(n_neighbors = 20)\n",
    "t6 = time.time()\n",
    "knn_lem.fit(X_train_lem_Tfidf,y_train_lem)\n",
    "predictions_knn_lem = knn_lem.predict(X_test_lem_Tfidf)\n",
    "f_t6 = time.time()-t6\n",
    "print(classification_report(y_test_lem, predictions_knn_lem))"
   ]
  },
  {
   "cell_type": "code",
   "execution_count": 41,
   "id": "d5262171",
   "metadata": {},
   "outputs": [
    {
     "name": "stdout",
     "output_type": "stream",
     "text": [
      "------------- PERFORMANCE KNN - LEMMATIZED -------------\n",
      "\n",
      "Training time -> 0.020192861557006836  seconds \n",
      "\n",
      "Accuracy -  0.8134328358208955\n",
      "Precision -  0.8\n",
      "Recall/Sensitivity -  0.835820895522388\n",
      "F1-Score -  0.8175182481751825\n",
      "Specificity -  0.7910447761194029\n",
      "Error rate -  0.1865671641791045\n",
      "AUC -  0.8134328358208955\n"
     ]
    },
    {
     "data": {
      "image/png": "[encoded data removed]",
      "text/plain": [
       "<Figure size 432x288 with 1 Axes>"
      ]
     },
     "metadata": {
      "needs_background": "light"
     },
     "output_type": "display_data"
    },
    {
     "data": {
      "image/png": "[encoded data removed]",
      "text/plain": [
       "<Figure size 432x288 with 2 Axes>"
      ]
     },
     "metadata": {
      "needs_background": "light"
     },
     "output_type": "display_data"
    }
   ],
   "source": [
    "print(\"------------- PERFORMANCE KNN - LEMMATIZED -------------\\n\")\n",
    "print(\"Training time ->\", f_t6, \" seconds \\n\")\n",
    "evaluation_measures(y_test_lem, predictions_knn_lem, 'knn_lem')"
   ]
  },
  {
   "cell_type": "markdown",
   "id": "5c794ef8",
   "metadata": {},
   "source": [
    "### 3.1.1 Prediction"
   ]
  },
  {
   "cell_type": "code",
   "execution_count": 42,
   "id": "35f5940c",
   "metadata": {},
   "outputs": [],
   "source": [
    "#Prediction -Lemmatized\n",
    "lem_tweets = tweet_df['lemmatized_tweet']\n",
    "Tfidf_vect = TfidfVectorizer()\n",
    "lem_tfidf = Tfidf_vect.fit_transform(lem_tweets)\n",
    "predict = knn_lem.predict(lem_tfidf)\n",
    "tweet_df['Prediction_Lem'] = predict\n",
    "tweet_df.to_csv(\"HashKNN-Predict.csv\", index=False)"
   ]
  },
  {
   "cell_type": "code",
   "execution_count": 43,
   "id": "073fb300",
   "metadata": {},
   "outputs": [
    {
     "data": {
      "text/html": [
       "<div>\n",
       "<style scoped>\n",
       "    .dataframe tbody tr th:only-of-type {\n",
       "        vertical-align: middle;\n",
       "    }\n",
       "\n",
       "    .dataframe tbody tr th {\n",
       "        vertical-align: top;\n",
       "    }\n",
       "\n",
       "    .dataframe thead tr th {\n",
       "        text-align: left;\n",
       "    }\n",
       "\n",
       "    .dataframe thead tr:last-of-type th {\n",
       "        text-align: right;\n",
       "    }\n",
       "</style>\n",
       "<table border=\"1\" class=\"dataframe\">\n",
       "  <thead>\n",
       "    <tr>\n",
       "      <th></th>\n",
       "      <th colspan=\"8\" halign=\"left\">author id</th>\n",
       "      <th colspan=\"5\" halign=\"left\">Category</th>\n",
       "      <th colspan=\"8\" halign=\"left\">Prediction_Stem</th>\n",
       "    </tr>\n",
       "    <tr>\n",
       "      <th></th>\n",
       "      <th>count</th>\n",
       "      <th>mean</th>\n",
       "      <th>std</th>\n",
       "      <th>min</th>\n",
       "      <th>25%</th>\n",
       "      <th>50%</th>\n",
       "      <th>75%</th>\n",
       "      <th>max</th>\n",
       "      <th>count</th>\n",
       "      <th>mean</th>\n",
       "      <th>...</th>\n",
       "      <th>75%</th>\n",
       "      <th>max</th>\n",
       "      <th>count</th>\n",
       "      <th>mean</th>\n",
       "      <th>std</th>\n",
       "      <th>min</th>\n",
       "      <th>25%</th>\n",
       "      <th>50%</th>\n",
       "      <th>75%</th>\n",
       "      <th>max</th>\n",
       "    </tr>\n",
       "    <tr>\n",
       "      <th>Prediction_Lem</th>\n",
       "      <th></th>\n",
       "      <th></th>\n",
       "      <th></th>\n",
       "      <th></th>\n",
       "      <th></th>\n",
       "      <th></th>\n",
       "      <th></th>\n",
       "      <th></th>\n",
       "      <th></th>\n",
       "      <th></th>\n",
       "      <th></th>\n",
       "      <th></th>\n",
       "      <th></th>\n",
       "      <th></th>\n",
       "      <th></th>\n",
       "      <th></th>\n",
       "      <th></th>\n",
       "      <th></th>\n",
       "      <th></th>\n",
       "      <th></th>\n",
       "      <th></th>\n",
       "    </tr>\n",
       "  </thead>\n",
       "  <tbody>\n",
       "    <tr>\n",
       "      <th>0</th>\n",
       "      <td>654.0</td>\n",
       "      <td>2.607855e+17</td>\n",
       "      <td>4.829928e+17</td>\n",
       "      <td>1612011.0</td>\n",
       "      <td>116759147.0</td>\n",
       "      <td>478779033.0</td>\n",
       "      <td>3.523302e+09</td>\n",
       "      <td>1.444056e+18</td>\n",
       "      <td>654.0</td>\n",
       "      <td>0.142202</td>\n",
       "      <td>...</td>\n",
       "      <td>0.0</td>\n",
       "      <td>1.0</td>\n",
       "      <td>654.0</td>\n",
       "      <td>0.120795</td>\n",
       "      <td>0.326138</td>\n",
       "      <td>0.0</td>\n",
       "      <td>0.0</td>\n",
       "      <td>0.0</td>\n",
       "      <td>0.0</td>\n",
       "      <td>1.0</td>\n",
       "    </tr>\n",
       "    <tr>\n",
       "      <th>1</th>\n",
       "      <td>686.0</td>\n",
       "      <td>2.248064e+17</td>\n",
       "      <td>4.612256e+17</td>\n",
       "      <td>2974941.0</td>\n",
       "      <td>115123902.0</td>\n",
       "      <td>199795105.5</td>\n",
       "      <td>2.913931e+09</td>\n",
       "      <td>1.471594e+18</td>\n",
       "      <td>686.0</td>\n",
       "      <td>0.841108</td>\n",
       "      <td>...</td>\n",
       "      <td>1.0</td>\n",
       "      <td>1.0</td>\n",
       "      <td>686.0</td>\n",
       "      <td>0.860058</td>\n",
       "      <td>0.347180</td>\n",
       "      <td>0.0</td>\n",
       "      <td>1.0</td>\n",
       "      <td>1.0</td>\n",
       "      <td>1.0</td>\n",
       "      <td>1.0</td>\n",
       "    </tr>\n",
       "  </tbody>\n",
       "</table>\n",
       "<p>2 rows × 24 columns</p>\n",
       "</div>"
      ],
      "text/plain": [
       "               author id                                                      \\\n",
       "                   count          mean           std        min          25%   \n",
       "Prediction_Lem                                                                 \n",
       "0                  654.0  2.607855e+17  4.829928e+17  1612011.0  116759147.0   \n",
       "1                  686.0  2.248064e+17  4.612256e+17  2974941.0  115123902.0   \n",
       "\n",
       "                                                        Category            \\\n",
       "                        50%           75%           max    count      mean   \n",
       "Prediction_Lem                                                               \n",
       "0               478779033.0  3.523302e+09  1.444056e+18    654.0  0.142202   \n",
       "1               199795105.5  2.913931e+09  1.471594e+18    686.0  0.841108   \n",
       "\n",
       "                ...           Prediction_Stem                                \\\n",
       "                ...  75%  max           count      mean       std  min  25%   \n",
       "Prediction_Lem  ...                                                           \n",
       "0               ...  0.0  1.0           654.0  0.120795  0.326138  0.0  0.0   \n",
       "1               ...  1.0  1.0           686.0  0.860058  0.347180  0.0  1.0   \n",
       "\n",
       "                               \n",
       "                50%  75%  max  \n",
       "Prediction_Lem                 \n",
       "0               0.0  0.0  1.0  \n",
       "1               1.0  1.0  1.0  \n",
       "\n",
       "[2 rows x 24 columns]"
      ]
     },
     "execution_count": 43,
     "metadata": {},
     "output_type": "execute_result"
    }
   ],
   "source": [
    "knn = pd.read_csv(\"HashKNN-Predict.csv\")\n",
    "knn.groupby('Prediction_Lem').describe()"
   ]
  },
  {
   "cell_type": "markdown",
   "id": "26f5244d",
   "metadata": {},
   "source": [
    "## 3.2 With Stemming"
   ]
  },
  {
   "cell_type": "code",
   "execution_count": 44,
   "id": "f4e7fc5d",
   "metadata": {},
   "outputs": [
    {
     "data": {
      "image/png": "[encoded data removed]",
      "text/plain": [
       "<Figure size 720x720 with 1 Axes>"
      ]
     },
     "metadata": {
      "needs_background": "light"
     },
     "output_type": "display_data"
    }
   ],
   "source": [
    "k_neighbors(X_train_stem_Tfidf,y_train_stem, X_test_stem_Tfidf, y_test_stem, 'stem')"
   ]
  },
  {
   "cell_type": "markdown",
   "id": "badb8048",
   "metadata": {},
   "source": [
    "Here two points 18 and 23 has highest peaks. Let's select 18 as the n_neighbors value"
   ]
  },
  {
   "cell_type": "code",
   "execution_count": 45,
   "id": "a8860f65",
   "metadata": {},
   "outputs": [
    {
     "name": "stdout",
     "output_type": "stream",
     "text": [
      "              precision    recall  f1-score   support\n",
      "\n",
      "           0       0.82      0.80      0.81       134\n",
      "           1       0.80      0.83      0.82       134\n",
      "\n",
      "    accuracy                           0.81       268\n",
      "   macro avg       0.81      0.81      0.81       268\n",
      "weighted avg       0.81      0.81      0.81       268\n",
      "\n"
     ]
    }
   ],
   "source": [
    "#KNN\n",
    "knn_stem = KNeighborsClassifier(n_neighbors = 18)\n",
    "t7 = time.time()\n",
    "knn_stem.fit(X_train_stem_Tfidf,y_train_stem)\n",
    "predictions_knn_stem = knn_stem.predict(X_test_stem_Tfidf)\n",
    "f_t7 = time.time()-t7\n",
    "print(classification_report(y_test_stem, predictions_knn_stem))"
   ]
  },
  {
   "cell_type": "code",
   "execution_count": 46,
   "id": "b9331f00",
   "metadata": {},
   "outputs": [
    {
     "name": "stdout",
     "output_type": "stream",
     "text": [
      "------------- PERFORMANCE KNN - STEMMING -------------\n",
      "\n",
      "Training time -> 0.019559383392333984  seconds \n",
      "\n",
      "Accuracy -  0.8134328358208955\n",
      "Precision -  0.8043478260869565\n",
      "Recall/Sensitivity -  0.8283582089552238\n",
      "F1-Score -  0.8161764705882353\n",
      "Specificity -  0.7985074626865671\n",
      "Error rate -  0.1865671641791045\n",
      "AUC -  0.8134328358208955\n"
     ]
    },
    {
     "data": {
      "image/png": "[encoded data removed]",
      "text/plain": [
       "<Figure size 432x288 with 1 Axes>"
      ]
     },
     "metadata": {
      "needs_background": "light"
     },
     "output_type": "display_data"
    },
    {
     "data": {
      "image/png": "[encoded data removed]",
      "text/plain": [
       "<Figure size 432x288 with 2 Axes>"
      ]
     },
     "metadata": {
      "needs_background": "light"
     },
     "output_type": "display_data"
    }
   ],
   "source": [
    "print(\"------------- PERFORMANCE KNN - STEMMING -------------\\n\")\n",
    "print(\"Training time ->\", f_t7, \" seconds \\n\")\n",
    "evaluation_measures(y_test_stem, predictions_knn_stem, 'knn_stem')"
   ]
  },
  {
   "cell_type": "markdown",
   "id": "71d889d5",
   "metadata": {},
   "source": [
    "### 3.2.1 Predicition"
   ]
  },
  {
   "cell_type": "code",
   "execution_count": 47,
   "id": "93ff1f35",
   "metadata": {},
   "outputs": [],
   "source": [
    "#Prediction - Stemming\n",
    "knn = pd.read_csv('HashKNN-Predict.csv')\n",
    "stem_tweets = df['stemming_tweet']\n",
    "Tfidf_vect = TfidfVectorizer()\n",
    "stem_tfidf = Tfidf_vect.fit_transform(stem_tweets)\n",
    "predict = knn_stem.predict(stem_tfidf)\n",
    "tweet_df['Prediction_Stem'] = predict\n",
    "tweet_df.to_csv(\"HashKNN-Predict.csv\", index=False)"
   ]
  },
  {
   "cell_type": "code",
   "execution_count": 48,
   "id": "6b1ad627",
   "metadata": {},
   "outputs": [
    {
     "data": {
      "text/html": [
       "<div>\n",
       "<style scoped>\n",
       "    .dataframe tbody tr th:only-of-type {\n",
       "        vertical-align: middle;\n",
       "    }\n",
       "\n",
       "    .dataframe tbody tr th {\n",
       "        vertical-align: top;\n",
       "    }\n",
       "\n",
       "    .dataframe thead tr th {\n",
       "        text-align: left;\n",
       "    }\n",
       "\n",
       "    .dataframe thead tr:last-of-type th {\n",
       "        text-align: right;\n",
       "    }\n",
       "</style>\n",
       "<table border=\"1\" class=\"dataframe\">\n",
       "  <thead>\n",
       "    <tr>\n",
       "      <th></th>\n",
       "      <th colspan=\"8\" halign=\"left\">author id</th>\n",
       "      <th colspan=\"5\" halign=\"left\">Category</th>\n",
       "      <th colspan=\"8\" halign=\"left\">Prediction_Lem</th>\n",
       "    </tr>\n",
       "    <tr>\n",
       "      <th></th>\n",
       "      <th>count</th>\n",
       "      <th>mean</th>\n",
       "      <th>std</th>\n",
       "      <th>min</th>\n",
       "      <th>25%</th>\n",
       "      <th>50%</th>\n",
       "      <th>75%</th>\n",
       "      <th>max</th>\n",
       "      <th>count</th>\n",
       "      <th>mean</th>\n",
       "      <th>...</th>\n",
       "      <th>75%</th>\n",
       "      <th>max</th>\n",
       "      <th>count</th>\n",
       "      <th>mean</th>\n",
       "      <th>std</th>\n",
       "      <th>min</th>\n",
       "      <th>25%</th>\n",
       "      <th>50%</th>\n",
       "      <th>75%</th>\n",
       "      <th>max</th>\n",
       "    </tr>\n",
       "    <tr>\n",
       "      <th>Prediction_Stem</th>\n",
       "      <th></th>\n",
       "      <th></th>\n",
       "      <th></th>\n",
       "      <th></th>\n",
       "      <th></th>\n",
       "      <th></th>\n",
       "      <th></th>\n",
       "      <th></th>\n",
       "      <th></th>\n",
       "      <th></th>\n",
       "      <th></th>\n",
       "      <th></th>\n",
       "      <th></th>\n",
       "      <th></th>\n",
       "      <th></th>\n",
       "      <th></th>\n",
       "      <th></th>\n",
       "      <th></th>\n",
       "      <th></th>\n",
       "      <th></th>\n",
       "      <th></th>\n",
       "    </tr>\n",
       "  </thead>\n",
       "  <tbody>\n",
       "    <tr>\n",
       "      <th>0</th>\n",
       "      <td>640.0</td>\n",
       "      <td>2.496633e+17</td>\n",
       "      <td>4.704264e+17</td>\n",
       "      <td>1612011.0</td>\n",
       "      <td>1.162086e+08</td>\n",
       "      <td>459394353.5</td>\n",
       "      <td>3.356710e+09</td>\n",
       "      <td>1.444056e+18</td>\n",
       "      <td>640.0</td>\n",
       "      <td>0.131250</td>\n",
       "      <td>...</td>\n",
       "      <td>0.0</td>\n",
       "      <td>1.0</td>\n",
       "      <td>640.0</td>\n",
       "      <td>0.064062</td>\n",
       "      <td>0.245056</td>\n",
       "      <td>0.0</td>\n",
       "      <td>0.0</td>\n",
       "      <td>0.0</td>\n",
       "      <td>0.0</td>\n",
       "      <td>1.0</td>\n",
       "    </tr>\n",
       "    <tr>\n",
       "      <th>1</th>\n",
       "      <td>700.0</td>\n",
       "      <td>2.356949e+17</td>\n",
       "      <td>4.739409e+17</td>\n",
       "      <td>1612011.0</td>\n",
       "      <td>1.151239e+08</td>\n",
       "      <td>242235183.0</td>\n",
       "      <td>2.959077e+09</td>\n",
       "      <td>1.471594e+18</td>\n",
       "      <td>700.0</td>\n",
       "      <td>0.837143</td>\n",
       "      <td>...</td>\n",
       "      <td>1.0</td>\n",
       "      <td>1.0</td>\n",
       "      <td>700.0</td>\n",
       "      <td>0.921429</td>\n",
       "      <td>0.269261</td>\n",
       "      <td>0.0</td>\n",
       "      <td>1.0</td>\n",
       "      <td>1.0</td>\n",
       "      <td>1.0</td>\n",
       "      <td>1.0</td>\n",
       "    </tr>\n",
       "  </tbody>\n",
       "</table>\n",
       "<p>2 rows × 24 columns</p>\n",
       "</div>"
      ],
      "text/plain": [
       "                author id                                         \\\n",
       "                    count          mean           std        min   \n",
       "Prediction_Stem                                                    \n",
       "0                   640.0  2.496633e+17  4.704264e+17  1612011.0   \n",
       "1                   700.0  2.356949e+17  4.739409e+17  1612011.0   \n",
       "\n",
       "                                                                        \\\n",
       "                          25%          50%           75%           max   \n",
       "Prediction_Stem                                                          \n",
       "0                1.162086e+08  459394353.5  3.356710e+09  1.444056e+18   \n",
       "1                1.151239e+08  242235183.0  2.959077e+09  1.471594e+18   \n",
       "\n",
       "                Category            ...           Prediction_Lem            \\\n",
       "                   count      mean  ...  75%  max          count      mean   \n",
       "Prediction_Stem                     ...                                      \n",
       "0                  640.0  0.131250  ...  0.0  1.0          640.0  0.064062   \n",
       "1                  700.0  0.837143  ...  1.0  1.0          700.0  0.921429   \n",
       "\n",
       "                                                    \n",
       "                      std  min  25%  50%  75%  max  \n",
       "Prediction_Stem                                     \n",
       "0                0.245056  0.0  0.0  0.0  0.0  1.0  \n",
       "1                0.269261  0.0  1.0  1.0  1.0  1.0  \n",
       "\n",
       "[2 rows x 24 columns]"
      ]
     },
     "execution_count": 48,
     "metadata": {},
     "output_type": "execute_result"
    }
   ],
   "source": [
    "knn = pd.read_csv('HashKNN-Predict.csv')\n",
    "knn.groupby('Prediction_Stem').describe()"
   ]
  },
  {
   "cell_type": "markdown",
   "id": "7e2cb0f7",
   "metadata": {},
   "source": [
    "<h1>Reference - </h1>\n",
    "\n",
    "https://medium.com/@bedigunjit/simple-guide-to-text-classification-nlp-using-svm-and-naive-bayes-with-python-421db3a72d34\n",
    "\n",
    "https://towardsdatascience.com/evaluating-machine-learning-classification-problems-in-python-5-1-metrics-that-matter-792c6faddf5"
   ]
  }
 ],
 "metadata": {
  "kernelspec": {
   "display_name": "Python 3",
   "language": "python",
   "name": "python3"
  },
  "language_info": {
   "codemirror_mode": {
    "name": "ipython",
    "version": 3
   },
   "file_extension": ".py",
   "mimetype": "text/x-python",
   "name": "python",
   "nbconvert_exporter": "python",
   "pygments_lexer": "ipython3",
   "version": "3.8.8"
  }
 },
 "nbformat": 4,
 "nbformat_minor": 5
}
