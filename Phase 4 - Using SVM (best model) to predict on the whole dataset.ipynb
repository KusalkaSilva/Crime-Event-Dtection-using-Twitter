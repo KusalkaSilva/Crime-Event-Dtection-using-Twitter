{
 "cells": [
  {
   "cell_type": "code",
   "execution_count": 1,
   "id": "8576d797",
   "metadata": {},
   "outputs": [],
   "source": [
    "#import necesssary libraries\n",
    "import pandas as pd\n",
    "import numpy as np\n",
    "import seaborn as sns\n",
    "from sklearn import metrics\n",
    "import matplotlib.pyplot as plt\n",
    "import time\n",
    "\n",
    "from sklearn.feature_extraction.text import TfidfVectorizer\n",
    "from sklearn.model_selection import train_test_split, validation_curve\n",
    "from sklearn import model_selection, naive_bayes, svm\n",
    "from sklearn.metrics import classification_report\n",
    "from sklearn.metrics import confusion_matrix\n",
    "from sklearn.metrics import accuracy_score, precision_score, recall_score, f1_score\n",
    "from sklearn.model_selection import GridSearchCV, StratifiedKFold\n",
    "from sklearn.model_selection import cross_val_score\n",
    "from pylab import savefig\n",
    "\n",
    "# To ignore warnings\n",
    "import warnings\n",
    "\n",
    "warnings.filterwarnings('ignore')"
   ]
  },
  {
   "cell_type": "code",
   "execution_count": 2,
   "id": "94860f53",
   "metadata": {},
   "outputs": [],
   "source": [
    "np.random.seed(500)"
   ]
  },
  {
   "cell_type": "code",
   "execution_count": 3,
   "id": "bc9c6313",
   "metadata": {},
   "outputs": [
    {
     "data": {
      "text/html": [
       "<div>\n",
       "<style scoped>\n",
       "    .dataframe tbody tr th:only-of-type {\n",
       "        vertical-align: middle;\n",
       "    }\n",
       "\n",
       "    .dataframe tbody tr th {\n",
       "        vertical-align: top;\n",
       "    }\n",
       "\n",
       "    .dataframe thead th {\n",
       "        text-align: right;\n",
       "    }\n",
       "</style>\n",
       "<table border=\"1\" class=\"dataframe\">\n",
       "  <thead>\n",
       "    <tr style=\"text-align: right;\">\n",
       "      <th></th>\n",
       "      <th>tweet</th>\n",
       "      <th>crime</th>\n",
       "      <th>Category</th>\n",
       "      <th>lemmatized_tweet</th>\n",
       "      <th>stemming_tweet</th>\n",
       "    </tr>\n",
       "  </thead>\n",
       "  <tbody>\n",
       "    <tr>\n",
       "      <th>0</th>\n",
       "      <td>- she was returning to her hostel when she was...</td>\n",
       "      <td>Yes</td>\n",
       "      <td>1</td>\n",
       "      <td>['return', 'hostel', 'savagely', 'beat', 'unco...</td>\n",
       "      <td>['return', 'hostel', 'savag', 'beaten', 'uncon...</td>\n",
       "    </tr>\n",
       "    <tr>\n",
       "      <th>1</th>\n",
       "      <td>BBC News - Napier Barracks: Fire at Covid-hit ...</td>\n",
       "      <td>Yes</td>\n",
       "      <td>1</td>\n",
       "      <td>['bbc', 'news', 'napier', 'barrack', 'fire', '...</td>\n",
       "      <td>['bbc', 'news', 'napier', 'barrack', 'fire', '...</td>\n",
       "    </tr>\n",
       "  </tbody>\n",
       "</table>\n",
       "</div>"
      ],
      "text/plain": [
       "                                               tweet crime  Category  \\\n",
       "0  - she was returning to her hostel when she was...   Yes         1   \n",
       "1  BBC News - Napier Barracks: Fire at Covid-hit ...   Yes         1   \n",
       "\n",
       "                                    lemmatized_tweet  \\\n",
       "0  ['return', 'hostel', 'savagely', 'beat', 'unco...   \n",
       "1  ['bbc', 'news', 'napier', 'barrack', 'fire', '...   \n",
       "\n",
       "                                      stemming_tweet  \n",
       "0  ['return', 'hostel', 'savag', 'beaten', 'uncon...  \n",
       "1  ['bbc', 'news', 'napier', 'barrack', 'fire', '...  "
      ]
     },
     "execution_count": 3,
     "metadata": {},
     "output_type": "execute_result"
    }
   ],
   "source": [
    "tweet_df = pd.read_csv('/Users/kusalkasilva/Documents/Twitter Research Project/final notebooks/TrainingHashtag.csv')\n",
    "tweet_df[['tweet', 'crime', 'Category', 'lemmatized_tweet', 'stemming_tweet']].head(2)"
   ]
  },
  {
   "cell_type": "code",
   "execution_count": 4,
   "id": "84ea2c1d",
   "metadata": {},
   "outputs": [],
   "source": [
    "#train_test split\n",
    "X_train_lem, X_test_lem, y_train_lem, y_test_lem = train_test_split(tweet_df['lemmatized_tweet'],\n",
    "                                                                    tweet_df['Category'], \n",
    "                                                                    stratify=tweet_df['Category'], \n",
    "                                                                    test_size=0.2,\n",
    "                                                                   random_state = 42)"
   ]
  },
  {
   "cell_type": "code",
   "execution_count": 5,
   "id": "d943e9ec",
   "metadata": {},
   "outputs": [],
   "source": [
    "#TF-IDF - Lemmatized tweets\n",
    "Tfidf_vect_lem = TfidfVectorizer()\n",
    "Tfidf_vect_lem.fit(tweet_df['lemmatized_tweet'])\n",
    "X_train_lem_Tfidf = Tfidf_vect_lem.transform(X_train_lem)\n",
    "X_test_lem_Tfidf = Tfidf_vect_lem.transform(X_test_lem)"
   ]
  },
  {
   "cell_type": "code",
   "execution_count": 6,
   "id": "a330a030",
   "metadata": {},
   "outputs": [],
   "source": [
    "def evaluation_measures(y_test, pred_model, name): #(test_set, ML model, \"lem\" or \"stem\")\n",
    "    \n",
    "    #confusion matrix\n",
    "    conf_marix = confusion_matrix(y_test, pred_model)\n",
    "    \n",
    "    #calculations\n",
    "    TP = conf_marix[1][1] #True Positives\n",
    "    FP = conf_marix[0][1] #False Positives\n",
    "    FN = conf_marix[1][0] #False Negatives\n",
    "    TN = conf_marix[0][0] #True Negatives\n",
    "    Specificity = TN/(TN+FP)\n",
    "    Error_rate = (FP+FN)/(TP+TN+FP+FN)\n",
    "    FPR, TPR, _ = metrics.roc_curve(y_test, pred_model)\n",
    "    AUC = metrics.roc_auc_score(y_test,pred_model)\n",
    "    \n",
    "    #printing measures\n",
    "    print('Accuracy - ', accuracy_score(y_test, pred_model))\n",
    "    print('Precision - ', precision_score(y_test, pred_model))\n",
    "    print('Recall/Sensitivity - ', recall_score(y_test, pred_model))\n",
    "    print('F1-Score - ', f1_score(y_test, pred_model))\n",
    "    print('Specificity - ', Specificity)\n",
    "    print('Error rate - ', Error_rate)\n",
    "    print('AUC - ', AUC) \n",
    "    \n",
    "    \n",
    "    #create ROC curve\n",
    "    plt.plot(FPR, TPR, label=\"AUC = \" +str(AUC))\n",
    "    plt.ylabel('True Positive Rate')\n",
    "    plt.xlabel('False Positive Rate')\n",
    "    plt.legend(loc=4)\n",
    "    plt.savefig('ROC Curve ' + str(name) + '.png') #saving plot\n",
    "    plt.show()\n",
    "    \n",
    "    \n",
    "    #Confusion Matrix\n",
    "    names = ['True Neg', 'False Pos', 'False Neg', 'True Pos'] #name of each box in confusion matrix grid\n",
    "    counts = [\"{0:0.0f}\".format(value) for value in conf_marix.flatten()] #TN, FP, FN, TP values\n",
    "    percentage = [\"{0:.2%}\".format(value) for value in conf_marix.flatten()/np.sum(conf_marix)] #calculating %\n",
    "    labels = [f\"{v1}\\n{v2}\\n{v3}\" for v1, v2, v3 in zip(names, counts, percentage)]\n",
    "    labels = np.asarray(labels).reshape(2,2)\n",
    "    c_matrix = sns.heatmap(conf_marix, annot=labels, fmt='', cmap='Blues')\n",
    "    figure = c_matrix.get_figure()\n",
    "    figure.savefig('CMatrix ' + str(name) + '.png') #saving confusion matrix\n",
    "    "
   ]
  },
  {
   "cell_type": "code",
   "execution_count": 7,
   "id": "fdf43ae2",
   "metadata": {},
   "outputs": [
    {
     "name": "stdout",
     "output_type": "stream",
     "text": [
      "              precision    recall  f1-score   support\n",
      "\n",
      "           0       0.87      0.90      0.88       134\n",
      "           1       0.89      0.87      0.88       134\n",
      "\n",
      "    accuracy                           0.88       268\n",
      "   macro avg       0.88      0.88      0.88       268\n",
      "weighted avg       0.88      0.88      0.88       268\n",
      "\n"
     ]
    }
   ],
   "source": [
    "# fit the training dataset on the classifier\n",
    "SVM_lem_tune = svm.SVC(C=10, degree = 1, gamma=1, kernel='rbf')\n",
    "t3 = time.time()\n",
    "SVM_lem_tune.fit(X_train_lem_Tfidf,y_train_lem)\n",
    "# predict the labels on validation dataset\n",
    "predictions_SVM_lem_tune = SVM_lem_tune.predict(X_test_lem_Tfidf)\n",
    "f_t3 = time.time()-t3\n",
    "print(classification_report(y_test_lem, predictions_SVM_lem_tune))"
   ]
  },
  {
   "cell_type": "code",
   "execution_count": 8,
   "id": "f8b1538b",
   "metadata": {},
   "outputs": [
    {
     "name": "stdout",
     "output_type": "stream",
     "text": [
      "------------- PERFORMANCE SVM AFTER TUNING - LEMMATIZED -------------\n",
      "\n",
      "Training time -> 0.18203210830688477  seconds \n",
      "\n",
      "Accuracy -  0.8805970149253731\n",
      "Precision -  0.8923076923076924\n",
      "Recall/Sensitivity -  0.8656716417910447\n",
      "F1-Score -  0.8787878787878788\n",
      "Specificity -  0.8955223880597015\n",
      "Error rate -  0.11940298507462686\n",
      "AUC -  0.8805970149253731\n"
     ]
    },
    {
     "data": {
      "image/png": "[encoded data removed]",
      "text/plain": [
       "<Figure size 432x288 with 1 Axes>"
      ]
     },
     "metadata": {
      "needs_background": "light"
     },
     "output_type": "display_data"
    },
    {
     "data": {
      "image/png": "[encoded data removed]",
      "text/plain": [
       "<Figure size 432x288 with 2 Axes>"
      ]
     },
     "metadata": {
      "needs_background": "light"
     },
     "output_type": "display_data"
    }
   ],
   "source": [
    "print(\"------------- PERFORMANCE SVM AFTER TUNING - LEMMATIZED -------------\\n\")\n",
    "print(\"Training time ->\", f_t3, \" seconds \\n\")\n",
    "evaluation_measures(y_test_lem, predictions_SVM_lem_tune, 'svm_Lem_tuning')"
   ]
  },
  {
   "cell_type": "code",
   "execution_count": 9,
   "id": "461b1a5b",
   "metadata": {},
   "outputs": [],
   "source": [
    "#Predicting based on the trained model\n",
    "\n",
    "df = pd.read_csv(\"/Users/kusalkasilva/Documents/Twitter Research Project/final notebooks/Preprocessed_Dataset.csv\")\n",
    "tweet = df['lemmatized_tweet']\n",
    "tf_idf = Tfidf_vect_lem.transform(tweet)\n",
    "# Predict on `X_unseen`\n",
    "prediction = SVM_lem_tune.predict(tf_idf)\n",
    "df[\"Prediction\"] = prediction"
   ]
  },
  {
   "cell_type": "code",
   "execution_count": 10,
   "id": "7c1fdb2c",
   "metadata": {},
   "outputs": [
    {
     "data": {
      "text/html": [
       "<div>\n",
       "<style scoped>\n",
       "    .dataframe tbody tr th:only-of-type {\n",
       "        vertical-align: middle;\n",
       "    }\n",
       "\n",
       "    .dataframe tbody tr th {\n",
       "        vertical-align: top;\n",
       "    }\n",
       "\n",
       "    .dataframe thead tr th {\n",
       "        text-align: left;\n",
       "    }\n",
       "\n",
       "    .dataframe thead tr:last-of-type th {\n",
       "        text-align: right;\n",
       "    }\n",
       "</style>\n",
       "<table border=\"1\" class=\"dataframe\">\n",
       "  <thead>\n",
       "    <tr>\n",
       "      <th></th>\n",
       "      <th colspan=\"8\" halign=\"left\">index</th>\n",
       "      <th colspan=\"5\" halign=\"left\">author id</th>\n",
       "      <th colspan=\"8\" halign=\"left\">id</th>\n",
       "    </tr>\n",
       "    <tr>\n",
       "      <th></th>\n",
       "      <th>count</th>\n",
       "      <th>mean</th>\n",
       "      <th>std</th>\n",
       "      <th>min</th>\n",
       "      <th>25%</th>\n",
       "      <th>50%</th>\n",
       "      <th>75%</th>\n",
       "      <th>max</th>\n",
       "      <th>count</th>\n",
       "      <th>mean</th>\n",
       "      <th>...</th>\n",
       "      <th>75%</th>\n",
       "      <th>max</th>\n",
       "      <th>count</th>\n",
       "      <th>mean</th>\n",
       "      <th>std</th>\n",
       "      <th>min</th>\n",
       "      <th>25%</th>\n",
       "      <th>50%</th>\n",
       "      <th>75%</th>\n",
       "      <th>max</th>\n",
       "    </tr>\n",
       "    <tr>\n",
       "      <th>Prediction</th>\n",
       "      <th></th>\n",
       "      <th></th>\n",
       "      <th></th>\n",
       "      <th></th>\n",
       "      <th></th>\n",
       "      <th></th>\n",
       "      <th></th>\n",
       "      <th></th>\n",
       "      <th></th>\n",
       "      <th></th>\n",
       "      <th></th>\n",
       "      <th></th>\n",
       "      <th></th>\n",
       "      <th></th>\n",
       "      <th></th>\n",
       "      <th></th>\n",
       "      <th></th>\n",
       "      <th></th>\n",
       "      <th></th>\n",
       "      <th></th>\n",
       "      <th></th>\n",
       "    </tr>\n",
       "  </thead>\n",
       "  <tbody>\n",
       "    <tr>\n",
       "      <th>0</th>\n",
       "      <td>206667.0</td>\n",
       "      <td>122461.410003</td>\n",
       "      <td>71378.574507</td>\n",
       "      <td>0.0</td>\n",
       "      <td>60444.5</td>\n",
       "      <td>122345.0</td>\n",
       "      <td>184118.5</td>\n",
       "      <td>247006.0</td>\n",
       "      <td>206667.0</td>\n",
       "      <td>2.694752e+17</td>\n",
       "      <td>...</td>\n",
       "      <td>7.034463e+17</td>\n",
       "      <td>1.475477e+18</td>\n",
       "      <td>206667.0</td>\n",
       "      <td>1.405441e+18</td>\n",
       "      <td>3.859662e+16</td>\n",
       "      <td>1.344797e+18</td>\n",
       "      <td>1.371303e+18</td>\n",
       "      <td>1.402263e+18</td>\n",
       "      <td>1.440422e+18</td>\n",
       "      <td>1.476704e+18</td>\n",
       "    </tr>\n",
       "    <tr>\n",
       "      <th>1</th>\n",
       "      <td>24793.0</td>\n",
       "      <td>125321.883677</td>\n",
       "      <td>69392.108493</td>\n",
       "      <td>14.0</td>\n",
       "      <td>67391.0</td>\n",
       "      <td>123565.0</td>\n",
       "      <td>186362.0</td>\n",
       "      <td>247004.0</td>\n",
       "      <td>24793.0</td>\n",
       "      <td>2.797681e+17</td>\n",
       "      <td>...</td>\n",
       "      <td>7.264432e+17</td>\n",
       "      <td>1.475477e+18</td>\n",
       "      <td>24793.0</td>\n",
       "      <td>1.406940e+18</td>\n",
       "      <td>3.786926e+16</td>\n",
       "      <td>1.344797e+18</td>\n",
       "      <td>1.372935e+18</td>\n",
       "      <td>1.402567e+18</td>\n",
       "      <td>1.441805e+18</td>\n",
       "      <td>1.476687e+18</td>\n",
       "    </tr>\n",
       "  </tbody>\n",
       "</table>\n",
       "<p>2 rows × 24 columns</p>\n",
       "</div>"
      ],
      "text/plain": [
       "               index                                                        \\\n",
       "               count           mean           std   min      25%       50%   \n",
       "Prediction                                                                   \n",
       "0           206667.0  122461.410003  71378.574507   0.0  60444.5  122345.0   \n",
       "1            24793.0  125321.883677  69392.108493  14.0  67391.0  123565.0   \n",
       "\n",
       "                               author id                ...                \\\n",
       "                 75%       max     count          mean  ...           75%   \n",
       "Prediction                                              ...                 \n",
       "0           184118.5  247006.0  206667.0  2.694752e+17  ...  7.034463e+17   \n",
       "1           186362.0  247004.0   24793.0  2.797681e+17  ...  7.264432e+17   \n",
       "\n",
       "                                id                                            \\\n",
       "                     max     count          mean           std           min   \n",
       "Prediction                                                                     \n",
       "0           1.475477e+18  206667.0  1.405441e+18  3.859662e+16  1.344797e+18   \n",
       "1           1.475477e+18   24793.0  1.406940e+18  3.786926e+16  1.344797e+18   \n",
       "\n",
       "                                                                    \n",
       "                     25%           50%           75%           max  \n",
       "Prediction                                                          \n",
       "0           1.371303e+18  1.402263e+18  1.440422e+18  1.476704e+18  \n",
       "1           1.372935e+18  1.402567e+18  1.441805e+18  1.476687e+18  \n",
       "\n",
       "[2 rows x 24 columns]"
      ]
     },
     "execution_count": 10,
     "metadata": {},
     "output_type": "execute_result"
    }
   ],
   "source": [
    "df.groupby('Prediction').describe()"
   ]
  },
  {
   "cell_type": "code",
   "execution_count": 11,
   "id": "b0e9e47e",
   "metadata": {},
   "outputs": [],
   "source": [
    "df.to_csv(\"/Users/kusalkasilva/Documents/Twitter Research Project/final notebooks/SVMPredict_WholeDataset.csv\", index=False)"
   ]
  }
 ],
 "metadata": {
  "kernelspec": {
   "display_name": "Python 3",
   "language": "python",
   "name": "python3"
  },
  "language_info": {
   "codemirror_mode": {
    "name": "ipython",
    "version": 3
   },
   "file_extension": ".py",
   "mimetype": "text/x-python",
   "name": "python",
   "nbconvert_exporter": "python",
   "pygments_lexer": "ipython3",
   "version": "3.8.8"
  }
 },
 "nbformat": 4,
 "nbformat_minor": 5
}
